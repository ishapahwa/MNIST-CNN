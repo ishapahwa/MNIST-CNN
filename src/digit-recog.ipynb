{
 "cells": [
  {
   "cell_type": "code",
   "execution_count": 2,
   "metadata": {},
   "outputs": [],
   "source": [
    "# This Python 3 environment comes with many helpful analytics libraries installed\n",
    "# It is defined by the kaggle/python docker image: https://github.com/kaggle/docker-python\n",
    "# For example, here's several helpful packages to load in \n",
    "\n",
    "import numpy as np # linear algebra\n",
    "import pandas as pd # data processing, CSV file I/O (e.g. pd.read_csv)\n",
    "import matplotlib.pyplot as plt\n",
    "# Input data files are available in the \"../input/\" directory.\n",
    "# For example, running this (by clicking run or pressing Shift+Enter) will list the files in the input directory\n",
    "\n",
    "from sklearn.model_selection import train_test_split\n",
    "from keras.utils.np_utils import to_categorical\n",
    "\n",
    "import skimage.transform\n",
    "import skimage.util\n",
    "from skimage.io import imread\n",
    "\n",
    "#from preprocessing import preprocess_image\n",
    "\n",
    "# machine learning packages\n",
    "import tensorflow as tf\n",
    "\n",
    "########\n",
    "from tensorflow.keras.models import Sequential\n",
    "from tensorflow.keras.layers import Dense , Dropout , Lambda, Flatten\n",
    "from keras.optimizers import Adam ,RMSprop\n",
    "from sklearn.model_selection import train_test_split\n",
    "#from keras import  backend as K\n",
    "from tensorflow.keras import backend as k\n",
    "from tensorflow.keras.preprocessing.image import ImageDataGenerator\n",
    "##########\n",
    "\n",
    "#from keras.layers.core import  Lambda , Dense, Flatten, Dropout\n",
    "from tensorflow.keras.callbacks import EarlyStopping, ReduceLROnPlateau \n",
    "from tensorflow.keras.layers import BatchNormalization, Convolution2D\n",
    "#from keras import layers\n",
    "from tensorflow.keras.layers import Input, Dense, Activation, ZeroPadding2D, BatchNormalization, Flatten, Conv2D\n",
    "from tensorflow.keras.layers import AveragePooling2D, MaxPooling2D, Dropout, GlobalMaxPooling2D, GlobalAveragePooling2D\n",
    "from tensorflow.keras.models import Model\n",
    "#from keras.preprocessing import image\n",
    "#from keras.utils import layer_utils\n",
    "#from keras.utils.data_utils import get_file\n",
    "#from keras.applications.imagenet_utils import preprocess_input\n",
    "#import pydot\n",
    "#from IPython.display import SVG\n",
    "#from keras.utils.vis_utils import model_to_dot\n",
    "#from keras.utils import plot_model\n",
    "#from kt_utils import *\n",
    "from tensorflow.keras import optimizers\n",
    "import preprocessing\n",
    "\n",
    "### Changed to Keras.something to tensorflow.keras.something to avoid the error the backend issues.\n",
    "### There were conflicting issues with Tensorflow 2.0 and keras"
   ]
  },
  {
   "cell_type": "markdown",
   "metadata": {},
   "source": [
    "### Load the train and test data"
   ]
  },
  {
   "cell_type": "code",
   "execution_count": 3,
   "metadata": {},
   "outputs": [],
   "source": [
    "# reading training data\n",
    "train=pd.read_csv(\"train.csv\")\n",
    "test=pd.read_csv(\"test.csv\")"
   ]
  },
  {
   "cell_type": "markdown",
   "metadata": {},
   "source": [
    "Each row is a 784 pixels, can be written into 28$\\times$28 matrix which represents a digit. Let's drop the first column in order to read rows for digits.\n",
    "\n",
    "Labels varies from 0 to 9."
   ]
  },
  {
   "cell_type": "code",
   "execution_count": 4,
   "metadata": {},
   "outputs": [],
   "source": [
    "X_train_orig = (train.iloc[:,1:].values).astype('float32') # all rows\n",
    "Y_train_orig = train.iloc[:,0].values.astype('int32') # all labels\n",
    "X_test_orig = test.values.astype('float32')"
   ]
  },
  {
   "cell_type": "markdown",
   "metadata": {},
   "source": [
    "Split the data into train and validation datasets"
   ]
  },
  {
   "cell_type": "code",
   "execution_count": 5,
   "metadata": {},
   "outputs": [],
   "source": [
    "batch_size=64\n",
    "X_train, X_val, Y_train, Y_val = train_test_split(X_train_orig, Y_train_orig, test_size=0.10, random_state=56)\n",
    "Y_train=Y_train.astype('int32')\n",
    "Y_val=Y_val.astype('int32')"
   ]
  },
  {
   "cell_type": "code",
   "execution_count": null,
   "metadata": {},
   "outputs": [],
   "source": [
    "X_train = X_train[0:3000]\n",
    "Y_train = Y_train[0:3000]\n",
    "X_val = X_val[0:300]\n",
    "Y_val = Y_val[0:300]"
   ]
  },
  {
   "cell_type": "markdown",
   "metadata": {},
   "source": [
    "### Data Visualization"
   ]
  },
  {
   "cell_type": "code",
   "execution_count": 6,
   "metadata": {},
   "outputs": [],
   "source": [
    "# To convert train dataset to (num_images, img_rows, img_cols) format \n",
    "X_train = X_train.reshape(X_train.shape[0], 28, 28, 1)\n",
    "X_test = X_test_orig.reshape(X_test_orig.shape[0], 28, 28, 1)\n",
    "X_val = X_val.reshape(X_val.shape[0], 28, 28,1 )"
   ]
  },
  {
   "cell_type": "code",
   "execution_count": 7,
   "metadata": {},
   "outputs": [
    {
     "data": {
      "image/png": "[encoded data removed]",
      "text/plain": [
       "<Figure size 432x288 with 10 Axes>"
      ]
     },
     "metadata": {
      "needs_background": "light"
     },
     "output_type": "display_data"
    }
   ],
   "source": [
    "## printing random hand-written digits\n",
    "indx = np.random.randint(0,len(X_train)-1,size=10)\n",
    "fig = plt.figure()\n",
    "for ix in range(10):\n",
    "    ax = fig.add_subplot(5, 5, 1 + ix)\n",
    "    ax.imshow(X_train[indx[ix],:,:,0])\n",
    "    ax.set_title('y='+str(Y_train[indx[ix]]))"
   ]
  },
  {
   "cell_type": "code",
   "execution_count": 8,
   "metadata": {},
   "outputs": [],
   "source": [
    "## reducing the pixels values between 0 and 1\n",
    "Xn_train = X_train/255.\n",
    "Xn_test = X_test/255.\n",
    "Xn_val = X_val/255."
   ]
  },
  {
   "cell_type": "markdown",
   "metadata": {},
   "source": [
    "### One-hot encoding"
   ]
  },
  {
   "cell_type": "code",
   "execution_count": null,
   "metadata": {},
   "outputs": [],
   "source": [
    "#def convert_to_one_hot(Y, C):\n",
    "#    Y = np.eye(C)[Y.reshape(-1)].T\n",
    "#    return Y\n",
    "#Y_train = convert_to_one_hot(Y_train, 10).T\n",
    "#Y_val = convert_to_one_hot(Y_val, 10).T"
   ]
  },
  {
   "cell_type": "code",
   "execution_count": 9,
   "metadata": {},
   "outputs": [
    {
     "name": "stdout",
     "output_type": "stream",
     "text": [
      "Total number of different labels 10\n"
     ]
    }
   ],
   "source": [
    "Ye_train= to_categorical(Y_train)\n",
    "Ye_val= to_categorical(Y_val)\n",
    "nlabels = Ye_train.shape[1]\n",
    "print('Total number of different labels',nlabels)"
   ]
  },
  {
   "cell_type": "markdown",
   "metadata": {},
   "source": [
    "### Linear Model"
   ]
  },
  {
   "cell_type": "code",
   "execution_count": null,
   "metadata": {},
   "outputs": [],
   "source": [
    "def LinearModel(input_shape):\n",
    "    \"\"\"\n",
    "    Implementation of the LinearModel.\n",
    "    \n",
    "    Arguments:\n",
    "    input_shape -- shape of the images of the dataset\n",
    "\n",
    "    Returns:\n",
    "    model -- a Model() instance in Keras\n",
    "    \"\"\"\n",
    "    # Define the input placeholder as a tensor with shape input_shape. \n",
    "    X_input = Input(input_shape)\n",
    "\n",
    "    # FLATTEN X (means convert it to a vector) + FULLYCONNECTED\n",
    "    X = Flatten()(X_input)\n",
    "    X = Dense(10, activation='softmax', name='fc')(X)\n",
    "\n",
    "    # Create model. This creates your Keras model instance, you'll use this instance to train/test the model.\n",
    "    model = Model(inputs = X_input, outputs = X, name='LinearModel')\n",
    "    return model"
   ]
  },
  {
   "cell_type": "code",
   "execution_count": null,
   "metadata": {},
   "outputs": [],
   "source": [
    "def lm_run(Model,xdata,ydata,xval,yval,bs):\n",
    "    model = Model(Xn_train[-1].shape)\n",
    "    model.compile(optimizers.Adam(lr=0.01), loss=\"categorical_crossentropy\", metrics=[\"accuracy\"])\n",
    "    history = model.fit(x = Xn_train, y = Ye_train, epochs = 40, batch_size = 64)\n",
    "    mval =  model.evaluate(x = xval, y = yval)\n",
    "    return mval,history"
   ]
  },
  {
   "cell_type": "code",
   "execution_count": null,
   "metadata": {},
   "outputs": [],
   "source": [
    "val,his=lm_run(LinearModel,Xn_train,Ye_train, Xn_val, Ye_val,64)"
   ]
  },
  {
   "cell_type": "code",
   "execution_count": null,
   "metadata": {},
   "outputs": [],
   "source": [
    "# Plot training & validation accuracy values\n",
    "plt.plot(his.history['accuracy'])\n",
    "plt.scatter(40,val[1])\n",
    "plt.title('Model accuracy')\n",
    "plt.ylabel('Accuracy')\n",
    "plt.xlabel('Epoch')\n",
    "plt.legend(['Train', 'Test'], loc='upper left')\n",
    "plt.show()\n",
    "\n",
    "# Plot training & validation loss values\n",
    "plt.plot(his.history['loss'])\n",
    "plt.scatter(40,val[0])\n",
    "plt.title('Model loss')\n",
    "plt.ylabel('Loss')\n",
    "plt.xlabel('Epoch')\n",
    "plt.legend(['Train', 'Test'], loc='upper left')\n",
    "plt.show()"
   ]
  },
  {
   "cell_type": "markdown",
   "metadata": {},
   "source": [
    "### Convulational Model"
   ]
  },
  {
   "cell_type": "code",
   "execution_count": null,
   "metadata": {},
   "outputs": [],
   "source": [
    "def ConvModel(input_shape):\n",
    "    \"\"\"\n",
    "    Implementation of the ConvModel.\n",
    "    \n",
    "    Arguments:\n",
    "    input_shape -- shape of the images of the dataset\n",
    "\n",
    "    Returns:\n",
    "    model -- a Model() instance in Keras\n",
    "    \"\"\"\n",
    "    # Define the input placeholder as a tensor with shape input_shape. \n",
    "    X_input = Input(input_shape)\n",
    "    \n",
    "    # Zero-Padding: pads the border of X_input with zeroes\n",
    "    X = ZeroPadding2D((3, 3))(X_input)\n",
    "\n",
    "    # CONV -> BN -> RELU Block applied to X\n",
    "    X = Conv2D(32, (3, 3), strides = (1, 1), name = 'conv0')(X)\n",
    "    X = BatchNormalization(axis = 3, name = 'bn0')(X)\n",
    "    X = Activation('relu')(X)\n",
    "\n",
    "    # MAXPOOL\n",
    "    X = MaxPooling2D((2, 2), name='max_pool')(X)\n",
    "\n",
    "    # FLATTEN X (means convert it to a vector) + FULLYCONNECTED\n",
    "    X = Flatten()(X)\n",
    "    X = Dense(10, activation='softmax', name='fc')(X)\n",
    "\n",
    "    # Create model. This creates your Keras model instance, you'll use this instance to train/test the model.\n",
    "    model = Model(inputs = X_input, outputs = X, name='ConvModel')\n",
    "    return model"
   ]
  },
  {
   "cell_type": "code",
   "execution_count": null,
   "metadata": {},
   "outputs": [],
   "source": [
    "val,his=lm_run(ConvModel,Xn_train,Ye_train, Xn_val, Ye_val,64)"
   ]
  },
  {
   "cell_type": "code",
   "execution_count": null,
   "metadata": {},
   "outputs": [],
   "source": [
    "# Plot training & validation accuracy values\n",
    "plt.plot(his.history['accuracy'])\n",
    "plt.scatter(40,val[1])\n",
    "plt.title('Model accuracy')\n",
    "plt.ylabel('Accuracy')\n",
    "plt.xlabel('Epoch')\n",
    "plt.legend(['Train', 'Test'], loc='upper left')\n",
    "plt.show()\n",
    "\n",
    "# Plot training & validation loss values\n",
    "plt.plot(his.history['loss'])\n",
    "plt.scatter(40,val[0])\n",
    "plt.title('Model loss')\n",
    "plt.ylabel('Loss')\n",
    "plt.xlabel('Epoch')\n",
    "plt.legend(['Train', 'Test'], loc='upper left')\n",
    "plt.show()"
   ]
  },
  {
   "cell_type": "markdown",
   "metadata": {},
   "source": [
    "### Kurapan CNN_MNIST"
   ]
  },
  {
   "cell_type": "code",
   "execution_count": 10,
   "metadata": {},
   "outputs": [],
   "source": [
    "def TestConvModel(input_shape):\n",
    "    \"\"\"\n",
    "    Implementation of the ConvModel.\n",
    "    \n",
    "    Arguments:\n",
    "    input_shape -- shape of the images of the dataset\n",
    "\n",
    "    Returns:\n",
    "    model -- a Model() instance in Keras\n",
    "    \"\"\"\n",
    "    # Define the input placeholder as a tensor with shape input_shape. \n",
    "    X_input = Input(input_shape)\n",
    "    \n",
    "    # \n",
    "    X = ZeroPadding2D((2, 2))(X_input)\n",
    "    X = Conv2D(64,5,5,kernel_initializer='he_normal',padding='same')(X)\n",
    "    X = Activation('relu')(X)\n",
    "    X = ZeroPadding2D((2, 2))(X)\n",
    "    X = Conv2D(128,5,5,kernel_initializer='he_normal',padding='same')(X)\n",
    "    X = Activation('relu')(X)\n",
    "    X = MaxPooling2D(strides=(2, 2),padding='same')(X)\n",
    "   \n",
    "    #\n",
    "    X = ZeroPadding2D((2, 2))(X)\n",
    "    X = Conv2D(256,5,5,kernel_initializer='he_normal',padding='same')(X)\n",
    "    X = Activation('relu')(X)\n",
    "    X = ZeroPadding2D((1, 1))(X)\n",
    "    X = Conv2D(256,3,3,kernel_initializer='he_normal',padding='same')(X)\n",
    "    X = Activation('relu')(X)\n",
    "    X = MaxPooling2D(strides=(2, 2),padding='same')(X)\n",
    "    X = Dropout(0.2)(X)\n",
    "    \n",
    "    #\n",
    "    X = ZeroPadding2D((1, 1))(X)\n",
    "    X = Conv2D(512,2,3,kernel_initializer='he_normal',padding='same')(X)\n",
    "    X = Activation('relu')(X)\n",
    "    X = Dropout(0.2)(X)\n",
    "    X = ZeroPadding2D((1, 1))(X)\n",
    "    X = Conv2D(512,3,3,kernel_initializer='he_normal',padding='same')(X)\n",
    "    X = Activation('relu')(X)\n",
    "    X = MaxPooling2D(strides=(2, 2),padding='same')(X)\n",
    "    \n",
    "    # FLATTEN X (means convert it to a vector) + FULLYCONNECTED\n",
    "    X = Flatten()(X)\n",
    "    X = Dropout(0.5)(X)\n",
    "    X = Dense(2048, activation='relu', kernel_initializer='he_normal')(X)\n",
    "\n",
    "    predictions = Dense(10, activation=\"softmax\")(X)\n",
    "    # Create model. This creates your Keras model instance, you'll use this instance to train/test the model.\n",
    "    model = Model(inputs = X_input, outputs = predictions, name='ConvModel')\n",
    "    return model"
   ]
  },
  {
   "cell_type": "code",
   "execution_count": 11,
   "metadata": {},
   "outputs": [],
   "source": [
    "def rotation_and_shear(img, rotation_angle=15, shear_angle=30):\n",
    "    img = skimage.transform.rotate(img, np.random.randint(-rotation_angle, rotation_angle))\n",
    "    tf_shift = skimage.transform.SimilarityTransform(translation=(-14, -14))\n",
    "    tf_inv_shift = skimage.transform.SimilarityTransform(translation=(14, 14))\n",
    "    tf_shear = skimage.transform.AffineTransform(shear=np.deg2rad(np.random.randint(-shear_angle, shear_angle)))\n",
    "    img = skimage.transform.warp(img, (tf_shift + (tf_shear + tf_inv_shift)).inverse)\n",
    "    return img"
   ]
  },
  {
   "cell_type": "code",
   "execution_count": 12,
   "metadata": {},
   "outputs": [],
   "source": [
    "def shift_pixels(img, shift_range=1):\n",
    "    tf_shift = skimage.transform.SimilarityTransform(translation=(np.random.randint(-shift_range, shift_range), np.random.randint(-shift_range, shift_range)))\n",
    "    img = skimage.transform.warp(img, tf_shift)\n",
    "    return img"
   ]
  },
  {
   "cell_type": "code",
   "execution_count": 13,
   "metadata": {},
   "outputs": [],
   "source": [
    "def add_noise(img, gauss_var=0.02):\n",
    "    #img = skimage.util.random_noise(img, mode='pepper', amount=0.1)\n",
    "    img = skimage.util.random_noise(img, mode='gaussian', var=gauss_var)\n",
    "    return img"
   ]
  },
  {
   "cell_type": "code",
   "execution_count": 14,
   "metadata": {},
   "outputs": [],
   "source": [
    "def batch_generator(trainX, trainY, batch_size):\n",
    "    trainX = trainX.reshape(trainX.shape[0],1,trainX.shape[1],trainX.shape[2])\n",
    "    while True:\n",
    "        idxs = np.arange(0, trainY.shape[0])\n",
    "        np.random.shuffle(idxs)\n",
    "        for i in range(trainY.shape[0] // batch_size):\n",
    "            batchX = [trainX[idx] for idx in idxs[i * batch_size : (i+1) * batch_size]]\n",
    "            batchY = [trainY[idx] for idx in idxs[i * batch_size : (i+1) * batch_size]]\n",
    "            batchX = [add_noise(rotation_and_shear(img[0])) for img in batchX]\n",
    "            batchX = np.array(batchX)\n",
    "            batchX = batchX.reshape(batchX.shape[0], batchX.shape[1], batchX.shape[2], 1)\n",
    "            #return batchX, batchY\n",
    "            yield batchX, np.array(batchY)"
   ]
  },
  {
   "cell_type": "code",
   "execution_count": 45,
   "metadata": {},
   "outputs": [],
   "source": [
    "def run(Model,xdata,ydata,xval,yval,xtest,bs,nb):\n",
    "    #xdata = xdata.reshape(xdata.shape[0],1,xdata.shape[1],xdata.shape[2])\n",
    "    model = Model(xdata[-1].shape)\n",
    "    model.compile(optimizers.Adam(lr=0.001,beta_1=0.9, beta_2=0.999, epsilon=1e-08), loss=\"categorical_crossentropy\", metrics=[\"accuracy\"])\n",
    "    #es = EarlyStopping(monitor='val_loss', mode='min', verbose=1, patience=10)\n",
    "    # reduce the learning rate by factor of 0.5 if the validation loss does not get lower in 7 epochs\n",
    "    reduce_lr = ReduceLROnPlateau(monitor='val_loss', factor=0.5, patience=7, min_lr=0.0000001, verbose=1)\n",
    "    history = model.fit_generator(batch_generator(xdata, ydata, batch_size=bs),steps_per_epoch=np.ceil(ydata.shape[0] / bs),validation_data=(xval, yval),epochs=nb, verbose=1, callbacks=[reduce_lr])\n",
    "    ##history = model.fit(x = xdata, y = ydata, epochs = 40, batch_size = bs,validation_data= (xval,yval),callbacks=[es])\n",
    "    mval =  model.evaluate(x = xval, y = yval)\n",
    "    ytest=model.predict(xtest)\n",
    "    return mval,history,ytest"
   ]
  },
  {
   "cell_type": "code",
   "execution_count": null,
   "metadata": {},
   "outputs": [],
   "source": [
    "testx,testy=batch_generator(Xn_train, Ye_train, 64)"
   ]
  },
  {
   "cell_type": "code",
   "execution_count": null,
   "metadata": {},
   "outputs": [],
   "source": [
    "Xn_train.shape"
   ]
  },
  {
   "cell_type": "code",
   "execution_count": 46,
   "metadata": {},
   "outputs": [
    {
     "name": "stdout",
     "output_type": "stream",
     "text": [
      "Epoch 1/70\n",
      "591/591 [==============================] - 256s 434ms/step - loss: 0.6310 - accuracy: 0.7989 - val_loss: 0.1846 - val_accuracy: 0.9495\n",
      "Epoch 2/70\n",
      "591/591 [==============================] - 254s 430ms/step - loss: 0.2674 - accuracy: 0.9244 - val_loss: 0.1274 - val_accuracy: 0.9621\n",
      "Epoch 3/70\n",
      "591/591 [==============================] - 239s 405ms/step - loss: 0.2104 - accuracy: 0.9433 - val_loss: 0.1041 - val_accuracy: 0.9679\n",
      "Epoch 4/70\n",
      "591/591 [==============================] - 237s 401ms/step - loss: 0.1824 - accuracy: 0.9501 - val_loss: 0.1253 - val_accuracy: 0.9705\n",
      "Epoch 5/70\n",
      "591/591 [==============================] - 239s 404ms/step - loss: 0.1640 - accuracy: 0.9557 - val_loss: 0.1010 - val_accuracy: 0.9712\n",
      "Epoch 6/70\n",
      "591/591 [==============================] - 238s 403ms/step - loss: 0.1450 - accuracy: 0.9599 - val_loss: 0.0908 - val_accuracy: 0.9771\n",
      "Epoch 7/70\n",
      "591/591 [==============================] - 238s 402ms/step - loss: 0.1393 - accuracy: 0.9620 - val_loss: 0.0855 - val_accuracy: 0.9805\n",
      "Epoch 8/70\n",
      "591/591 [==============================] - 237s 400ms/step - loss: 0.1318 - accuracy: 0.9641 - val_loss: 0.0980 - val_accuracy: 0.9750\n",
      "Epoch 9/70\n",
      "591/591 [==============================] - 240s 407ms/step - loss: 0.1224 - accuracy: 0.9670 - val_loss: 0.0773 - val_accuracy: 0.9812\n",
      "Epoch 10/70\n",
      "591/591 [==============================] - 238s 402ms/step - loss: 0.1198 - accuracy: 0.9673 - val_loss: 0.0904 - val_accuracy: 0.9764\n",
      "Epoch 11/70\n",
      "591/591 [==============================] - 238s 402ms/step - loss: 0.1143 - accuracy: 0.9686 - val_loss: 0.0700 - val_accuracy: 0.9795\n",
      "Epoch 12/70\n",
      "591/591 [==============================] - 237s 400ms/step - loss: 0.1061 - accuracy: 0.9709 - val_loss: 0.0780 - val_accuracy: 0.9800\n",
      "Epoch 13/70\n",
      "591/591 [==============================] - 236s 400ms/step - loss: 0.1050 - accuracy: 0.9720 - val_loss: 0.0891 - val_accuracy: 0.9767\n",
      "Epoch 14/70\n",
      "591/591 [==============================] - 236s 400ms/step - loss: 0.1033 - accuracy: 0.9724 - val_loss: 0.0568 - val_accuracy: 0.9855\n",
      "Epoch 15/70\n",
      "591/591 [==============================] - 239s 405ms/step - loss: 0.0973 - accuracy: 0.9749 - val_loss: 0.0619 - val_accuracy: 0.9833\n",
      "Epoch 16/70\n",
      "591/591 [==============================] - 237s 401ms/step - loss: 0.0967 - accuracy: 0.9736 - val_loss: 0.0814 - val_accuracy: 0.9774\n",
      "Epoch 17/70\n",
      "591/591 [==============================] - 240s 406ms/step - loss: 0.0956 - accuracy: 0.9746 - val_loss: 0.0614 - val_accuracy: 0.9836\n",
      "Epoch 18/70\n",
      "591/591 [==============================] - 240s 406ms/step - loss: 0.0918 - accuracy: 0.9753 - val_loss: 0.0623 - val_accuracy: 0.9843\n",
      "Epoch 19/70\n",
      "591/591 [==============================] - 238s 402ms/step - loss: 0.0906 - accuracy: 0.9754 - val_loss: 0.0726 - val_accuracy: 0.9805\n",
      "Epoch 20/70\n",
      "591/591 [==============================] - 239s 405ms/step - loss: 0.0910 - accuracy: 0.9766 - val_loss: 0.0603 - val_accuracy: 0.9857\n",
      "Epoch 21/70\n",
      "590/591 [============================>.] - ETA: 0s - loss: 0.0853 - accuracy: 0.9780\n",
      "Epoch 00021: ReduceLROnPlateau reducing learning rate to 0.0005000000237487257.\n",
      "591/591 [==============================] - 236s 399ms/step - loss: 0.0853 - accuracy: 0.9780 - val_loss: 0.0574 - val_accuracy: 0.9850\n",
      "Epoch 22/70\n",
      "591/591 [==============================] - 237s 401ms/step - loss: 0.0652 - accuracy: 0.9820 - val_loss: 0.0433 - val_accuracy: 0.9879\n",
      "Epoch 23/70\n",
      "591/591 [==============================] - 237s 401ms/step - loss: 0.0623 - accuracy: 0.9832 - val_loss: 0.0528 - val_accuracy: 0.9848\n",
      "Epoch 24/70\n",
      "591/591 [==============================] - 236s 400ms/step - loss: 0.0594 - accuracy: 0.9844 - val_loss: 0.0526 - val_accuracy: 0.9874\n",
      "Epoch 25/70\n",
      "591/591 [==============================] - 238s 403ms/step - loss: 0.0577 - accuracy: 0.9834 - val_loss: 0.0509 - val_accuracy: 0.9857\n",
      "Epoch 26/70\n",
      "591/591 [==============================] - 235s 397ms/step - loss: 0.0531 - accuracy: 0.9849 - val_loss: 0.0498 - val_accuracy: 0.9881\n",
      "Epoch 27/70\n",
      "591/591 [==============================] - 238s 403ms/step - loss: 0.0581 - accuracy: 0.9838 - val_loss: 0.0592 - val_accuracy: 0.9862\n",
      "Epoch 28/70\n",
      "591/591 [==============================] - 238s 403ms/step - loss: 0.0542 - accuracy: 0.9850 - val_loss: 0.0592 - val_accuracy: 0.9855\n",
      "Epoch 29/70\n",
      "590/591 [============================>.] - ETA: 0s - loss: 0.0499 - accuracy: 0.9849\n",
      "Epoch 00029: ReduceLROnPlateau reducing learning rate to 0.0002500000118743628.\n",
      "591/591 [==============================] - 237s 401ms/step - loss: 0.0499 - accuracy: 0.9850 - val_loss: 0.0593 - val_accuracy: 0.9883\n",
      "Epoch 30/70\n",
      "591/591 [==============================] - 239s 405ms/step - loss: 0.0450 - accuracy: 0.9869 - val_loss: 0.0509 - val_accuracy: 0.9879\n",
      "Epoch 31/70\n",
      "591/591 [==============================] - 235s 397ms/step - loss: 0.0414 - accuracy: 0.9875 - val_loss: 0.0438 - val_accuracy: 0.9886\n",
      "Epoch 32/70\n",
      "591/591 [==============================] - 239s 404ms/step - loss: 0.0396 - accuracy: 0.9878 - val_loss: 0.0457 - val_accuracy: 0.9890\n",
      "Epoch 33/70\n",
      "591/591 [==============================] - 241s 408ms/step - loss: 0.0407 - accuracy: 0.9878 - val_loss: 0.0480 - val_accuracy: 0.9890\n",
      "Epoch 34/70\n",
      "591/591 [==============================] - 238s 403ms/step - loss: 0.0410 - accuracy: 0.9881 - val_loss: 0.0461 - val_accuracy: 0.9905\n",
      "Epoch 35/70\n",
      "591/591 [==============================] - 238s 403ms/step - loss: 0.0354 - accuracy: 0.9891 - val_loss: 0.0555 - val_accuracy: 0.9888\n",
      "Epoch 36/70\n",
      "590/591 [============================>.] - ETA: 0s - loss: 0.0399 - accuracy: 0.9888\n",
      "Epoch 00036: ReduceLROnPlateau reducing learning rate to 0.0001250000059371814.\n",
      "591/591 [==============================] - 237s 401ms/step - loss: 0.0398 - accuracy: 0.9888 - val_loss: 0.0438 - val_accuracy: 0.9890\n",
      "Epoch 37/70\n",
      "591/591 [==============================] - 241s 407ms/step - loss: 0.0339 - accuracy: 0.9897 - val_loss: 0.0494 - val_accuracy: 0.9912\n",
      "Epoch 38/70\n",
      "591/591 [==============================] - 239s 404ms/step - loss: 0.0296 - accuracy: 0.9907 - val_loss: 0.0630 - val_accuracy: 0.9900\n",
      "Epoch 39/70\n",
      "591/591 [==============================] - 240s 407ms/step - loss: 0.0318 - accuracy: 0.9911 - val_loss: 0.0623 - val_accuracy: 0.9888\n",
      "Epoch 40/70\n",
      "591/591 [==============================] - 238s 403ms/step - loss: 0.0297 - accuracy: 0.9911 - val_loss: 0.0562 - val_accuracy: 0.9898\n",
      "Epoch 41/70\n",
      "591/591 [==============================] - 240s 407ms/step - loss: 0.0317 - accuracy: 0.9909 - val_loss: 0.0483 - val_accuracy: 0.9900\n",
      "Epoch 42/70\n",
      "591/591 [==============================] - 238s 402ms/step - loss: 0.0323 - accuracy: 0.9904 - val_loss: 0.0441 - val_accuracy: 0.9910\n",
      "Epoch 43/70\n",
      "590/591 [============================>.] - ETA: 0s - loss: 0.0305 - accuracy: 0.9906\n",
      "Epoch 00043: ReduceLROnPlateau reducing learning rate to 6.25000029685907e-05.\n",
      "591/591 [==============================] - 238s 402ms/step - loss: 0.0305 - accuracy: 0.9906 - val_loss: 0.0462 - val_accuracy: 0.9921\n",
      "Epoch 44/70\n",
      "591/591 [==============================] - 238s 402ms/step - loss: 0.0276 - accuracy: 0.9916 - val_loss: 0.0511 - val_accuracy: 0.9893\n",
      "Epoch 45/70\n",
      "591/591 [==============================] - 238s 403ms/step - loss: 0.0272 - accuracy: 0.9920 - val_loss: 0.0480 - val_accuracy: 0.9895\n",
      "Epoch 46/70\n",
      "591/591 [==============================] - 237s 401ms/step - loss: 0.0269 - accuracy: 0.9920 - val_loss: 0.0467 - val_accuracy: 0.9902\n",
      "Epoch 47/70\n",
      "591/591 [==============================] - 239s 404ms/step - loss: 0.0280 - accuracy: 0.9908 - val_loss: 0.0472 - val_accuracy: 0.9893\n",
      "Epoch 48/70\n",
      "591/591 [==============================] - 237s 402ms/step - loss: 0.0272 - accuracy: 0.9916 - val_loss: 0.0456 - val_accuracy: 0.9907\n",
      "Epoch 49/70\n",
      "591/591 [==============================] - 238s 404ms/step - loss: 0.0276 - accuracy: 0.9920 - val_loss: 0.0467 - val_accuracy: 0.9910\n",
      "Epoch 50/70\n",
      "590/591 [============================>.] - ETA: 0s - loss: 0.0306 - accuracy: 0.9910\n",
      "Epoch 00050: ReduceLROnPlateau reducing learning rate to 3.125000148429535e-05.\n",
      "591/591 [==============================] - 237s 401ms/step - loss: 0.0306 - accuracy: 0.9910 - val_loss: 0.0478 - val_accuracy: 0.9910\n",
      "Epoch 51/70\n"
     ]
    },
    {
     "name": "stdout",
     "output_type": "stream",
     "text": [
      "591/591 [==============================] - 236s 400ms/step - loss: 0.0287 - accuracy: 0.9910 - val_loss: 0.0447 - val_accuracy: 0.9902\n",
      "Epoch 52/70\n",
      "591/591 [==============================] - 236s 399ms/step - loss: 0.0266 - accuracy: 0.9915 - val_loss: 0.0460 - val_accuracy: 0.9898\n",
      "Epoch 53/70\n",
      "591/591 [==============================] - 239s 404ms/step - loss: 0.0251 - accuracy: 0.9920 - val_loss: 0.0443 - val_accuracy: 0.9914\n",
      "Epoch 54/70\n",
      "591/591 [==============================] - 238s 403ms/step - loss: 0.0249 - accuracy: 0.9921 - val_loss: 0.0452 - val_accuracy: 0.9914\n",
      "Epoch 55/70\n",
      "591/591 [==============================] - 237s 402ms/step - loss: 0.0247 - accuracy: 0.9920 - val_loss: 0.0474 - val_accuracy: 0.9910\n",
      "Epoch 56/70\n",
      "591/591 [==============================] - 237s 401ms/step - loss: 0.0255 - accuracy: 0.9923 - val_loss: 0.0456 - val_accuracy: 0.9912\n",
      "Epoch 57/70\n",
      "590/591 [============================>.] - ETA: 0s - loss: 0.0251 - accuracy: 0.9916\n",
      "Epoch 00057: ReduceLROnPlateau reducing learning rate to 1.5625000742147677e-05.\n",
      "591/591 [==============================] - 237s 401ms/step - loss: 0.0251 - accuracy: 0.9916 - val_loss: 0.0462 - val_accuracy: 0.9912\n",
      "Epoch 58/70\n",
      "591/591 [==============================] - 236s 400ms/step - loss: 0.0251 - accuracy: 0.9920 - val_loss: 0.0476 - val_accuracy: 0.9905\n",
      "Epoch 59/70\n",
      "591/591 [==============================] - 240s 406ms/step - loss: 0.0241 - accuracy: 0.9924 - val_loss: 0.0489 - val_accuracy: 0.9898\n",
      "Epoch 60/70\n",
      "591/591 [==============================] - 239s 405ms/step - loss: 0.0246 - accuracy: 0.9922 - val_loss: 0.0482 - val_accuracy: 0.9907\n",
      "Epoch 61/70\n",
      "591/591 [==============================] - 238s 403ms/step - loss: 0.0259 - accuracy: 0.9920 - val_loss: 0.0476 - val_accuracy: 0.9902\n",
      "Epoch 62/70\n",
      "591/591 [==============================] - 239s 404ms/step - loss: 0.0306 - accuracy: 0.9921 - val_loss: 0.0464 - val_accuracy: 0.9905\n",
      "Epoch 63/70\n",
      "591/591 [==============================] - 239s 405ms/step - loss: 0.0219 - accuracy: 0.9932 - val_loss: 0.0496 - val_accuracy: 0.9902\n",
      "Epoch 64/70\n",
      "590/591 [============================>.] - ETA: 0s - loss: 0.0222 - accuracy: 0.9931\n",
      "Epoch 00064: ReduceLROnPlateau reducing learning rate to 7.812500371073838e-06.\n",
      "591/591 [==============================] - 240s 405ms/step - loss: 0.0223 - accuracy: 0.9931 - val_loss: 0.0516 - val_accuracy: 0.9898\n",
      "Epoch 65/70\n",
      "591/591 [==============================] - 237s 401ms/step - loss: 0.0247 - accuracy: 0.9930 - val_loss: 0.0500 - val_accuracy: 0.9898\n",
      "Epoch 66/70\n",
      "591/591 [==============================] - 240s 405ms/step - loss: 0.0232 - accuracy: 0.9932 - val_loss: 0.0506 - val_accuracy: 0.9900\n",
      "Epoch 67/70\n",
      "591/591 [==============================] - 233s 394ms/step - loss: 0.0256 - accuracy: 0.9928 - val_loss: 0.0505 - val_accuracy: 0.9905\n",
      "Epoch 68/70\n",
      "591/591 [==============================] - 240s 407ms/step - loss: 0.0232 - accuracy: 0.9930 - val_loss: 0.0508 - val_accuracy: 0.9905\n",
      "Epoch 69/70\n",
      "591/591 [==============================] - 238s 403ms/step - loss: 0.0232 - accuracy: 0.9923 - val_loss: 0.0509 - val_accuracy: 0.9907\n",
      "Epoch 70/70\n",
      "591/591 [==============================] - 240s 407ms/step - loss: 0.0229 - accuracy: 0.9930 - val_loss: 0.0507 - val_accuracy: 0.9905\n",
      "4200/4200 [==============================] - 1s 233us/sample - loss: 0.0510 - accuracy: 0.9905\n"
     ]
    }
   ],
   "source": [
    "val,his,ypred=run(TestConvModel,Xn_train,Ye_train, Xn_val, Ye_val,Xn_test,64,70)"
   ]
  },
  {
   "cell_type": "code",
   "execution_count": 17,
   "metadata": {},
   "outputs": [
    {
     "name": "stdout",
     "output_type": "stream",
     "text": [
      "Model: \"ConvModel\"\n",
      "_________________________________________________________________\n",
      "Layer (type)                 Output Shape              Param #   \n",
      "=================================================================\n",
      "input_2 (InputLayer)         [(None, 28, 28, 1)]       0         \n",
      "_________________________________________________________________\n",
      "zero_padding2d_6 (ZeroPaddin (None, 32, 32, 1)         0         \n",
      "_________________________________________________________________\n",
      "conv2d_6 (Conv2D)            (None, 7, 7, 64)          1664      \n",
      "_________________________________________________________________\n",
      "activation_6 (Activation)    (None, 7, 7, 64)          0         \n",
      "_________________________________________________________________\n",
      "zero_padding2d_7 (ZeroPaddin (None, 11, 11, 64)        0         \n",
      "_________________________________________________________________\n",
      "conv2d_7 (Conv2D)            (None, 3, 3, 128)         204928    \n",
      "_________________________________________________________________\n",
      "activation_7 (Activation)    (None, 3, 3, 128)         0         \n",
      "_________________________________________________________________\n",
      "max_pooling2d_3 (MaxPooling2 (None, 2, 2, 128)         0         \n",
      "_________________________________________________________________\n",
      "zero_padding2d_8 (ZeroPaddin (None, 6, 6, 128)         0         \n",
      "_________________________________________________________________\n",
      "conv2d_8 (Conv2D)            (None, 2, 2, 256)         819456    \n",
      "_________________________________________________________________\n",
      "activation_8 (Activation)    (None, 2, 2, 256)         0         \n",
      "_________________________________________________________________\n",
      "zero_padding2d_9 (ZeroPaddin (None, 4, 4, 256)         0         \n",
      "_________________________________________________________________\n",
      "conv2d_9 (Conv2D)            (None, 2, 2, 256)         590080    \n",
      "_________________________________________________________________\n",
      "activation_9 (Activation)    (None, 2, 2, 256)         0         \n",
      "_________________________________________________________________\n",
      "max_pooling2d_4 (MaxPooling2 (None, 1, 1, 256)         0         \n",
      "_________________________________________________________________\n",
      "dropout_3 (Dropout)          (None, 1, 1, 256)         0         \n",
      "_________________________________________________________________\n",
      "zero_padding2d_10 (ZeroPaddi (None, 3, 3, 256)         0         \n",
      "_________________________________________________________________\n",
      "conv2d_10 (Conv2D)           (None, 1, 1, 512)         524800    \n",
      "_________________________________________________________________\n",
      "activation_10 (Activation)   (None, 1, 1, 512)         0         \n",
      "_________________________________________________________________\n",
      "dropout_4 (Dropout)          (None, 1, 1, 512)         0         \n",
      "_________________________________________________________________\n",
      "zero_padding2d_11 (ZeroPaddi (None, 3, 3, 512)         0         \n",
      "_________________________________________________________________\n",
      "conv2d_11 (Conv2D)           (None, 1, 1, 512)         2359808   \n",
      "_________________________________________________________________\n",
      "activation_11 (Activation)   (None, 1, 1, 512)         0         \n",
      "_________________________________________________________________\n",
      "max_pooling2d_5 (MaxPooling2 (None, 1, 1, 512)         0         \n",
      "_________________________________________________________________\n",
      "flatten_1 (Flatten)          (None, 512)               0         \n",
      "_________________________________________________________________\n",
      "dropout_5 (Dropout)          (None, 512)               0         \n",
      "_________________________________________________________________\n",
      "dense_2 (Dense)              (None, 2048)              1050624   \n",
      "_________________________________________________________________\n",
      "dense_3 (Dense)              (None, 10)                20490     \n",
      "=================================================================\n",
      "Total params: 5,571,850\n",
      "Trainable params: 5,571,850\n",
      "Non-trainable params: 0\n",
      "_________________________________________________________________\n"
     ]
    }
   ],
   "source": [
    "base_model = TestConvModel(Xn_train[-1].shape)\n",
    "base_model.summary()"
   ]
  },
  {
   "cell_type": "code",
   "execution_count": 47,
   "metadata": {},
   "outputs": [
    {
     "data": {
      "image/png": "[encoded data removed]",
      "text/plain": [
       "<Figure size 432x288 with 1 Axes>"
      ]
     },
     "metadata": {
      "needs_background": "light"
     },
     "output_type": "display_data"
    },
    {
     "data": {
      "image/png": "[encoded data removed]",
      "text/plain": [
       "<Figure size 432x288 with 1 Axes>"
      ]
     },
     "metadata": {
      "needs_background": "light"
     },
     "output_type": "display_data"
    }
   ],
   "source": [
    "# Plot training & validation accuracy values\n",
    "plt.plot(his.history['accuracy'])\n",
    "plt.plot(his.history['val_accuracy'])\n",
    "plt.title('Model accuracy')\n",
    "plt.ylabel('Accuracy')\n",
    "plt.xlabel('Epoch')\n",
    "plt.legend(['Train', 'Test'], loc='upper left')\n",
    "plt.show()\n",
    "\n",
    "# Plot training & validation loss values\n",
    "plt.plot(his.history['loss'])\n",
    "plt.plot(his.history['val_loss'])\n",
    "plt.title('Model loss')\n",
    "plt.ylabel('Loss')\n",
    "plt.xlabel('Epoch')\n",
    "plt.legend(['Train', 'Test'], loc='upper left')\n",
    "plt.show()"
   ]
  },
  {
   "cell_type": "code",
   "execution_count": 58,
   "metadata": {},
   "outputs": [
    {
     "data": {
      "text/plain": [
       "-5.814500582928663"
      ]
     },
     "execution_count": 58,
     "metadata": {},
     "output_type": "execute_result"
    }
   ],
   "source": [
    "(his.history['loss'][30]-his.history['val_loss'][30])/his.history['loss'][30] * 100"
   ]
  },
  {
   "cell_type": "code",
   "execution_count": 59,
   "metadata": {},
   "outputs": [
    {
     "data": {
      "text/plain": [
       "0.9875212"
      ]
     },
     "execution_count": 59,
     "metadata": {},
     "output_type": "execute_result"
    }
   ],
   "source": [
    "his.history['accuracy'][30]"
   ]
  },
  {
   "cell_type": "code",
   "execution_count": null,
   "metadata": {},
   "outputs": [],
   "source": [
    "Xn_test.shape"
   ]
  },
  {
   "cell_type": "code",
   "execution_count": 35,
   "metadata": {},
   "outputs": [],
   "source": [
    "ytest=np.argmax(ypred,axis=1)"
   ]
  },
  {
   "cell_type": "code",
   "execution_count": 41,
   "metadata": {},
   "outputs": [
    {
     "data": {
      "image/png": "[encoded data removed]",
      "text/plain": [
       "<Figure size 432x288 with 10 Axes>"
      ]
     },
     "metadata": {
      "needs_background": "light"
     },
     "output_type": "display_data"
    }
   ],
   "source": [
    "## printing random hand-written digits\n",
    "indx = np.arange(len(Xn_test)) #np.random.randint(0,len(Xn_test)-1,size=10)\n",
    "fig = plt.figure()\n",
    "for ix in range(10):\n",
    "    ax = fig.add_subplot(5, 5, 1 + ix)\n",
    "    ax.imshow(Xn_test[indx[ix],:,:,0])\n",
    "    ax.set_title('y='+str(ytest[indx[ix]]))"
   ]
  },
  {
   "cell_type": "code",
   "execution_count": 40,
   "metadata": {},
   "outputs": [],
   "source": [
    "image_id = np.arange(len(Xn_test))\n",
    "submission = pd.DataFrame({\n",
    "        \"ImageId\": image_id,\n",
    "        \"Label\": ytest\n",
    "    })\n",
    "submission.to_csv('submission.csv', index=False)"
   ]
  },
  {
   "cell_type": "code",
   "execution_count": 29,
   "metadata": {},
   "outputs": [],
   "source": [
    "def Lenet5Model(input_shape):\n",
    "    \"\"\"\n",
    "    Implementation of the ConvModel.\n",
    "    \n",
    "    Arguments:\n",
    "    input_shape -- shape of the images of the dataset\n",
    "\n",
    "    Returns:\n",
    "    model -- a Model() instance in Keras\n",
    "    \"\"\"\n",
    "    # Define the input placeholder as a tensor with shape input_shape. \n",
    "    X_input = Input(input_shape)\n",
    "    \n",
    "    # \n",
    "    X = ZeroPadding2D((2, 2))(X_input)\n",
    "    print(np.shape(X))\n",
    "    X = Conv2D(6,5,1,kernel_initializer='he_normal')(X)\n",
    "    print(np.shape(X))\n",
    "    X = AveragePooling2D(pool_size=(2,2),strides=2)(X)\n",
    "    print(np.shape(X))\n",
    "    X = Conv2D(16,5,1,kernel_initializer='he_normal')(X)\n",
    "    print(np.shape(X))\n",
    "    X = AveragePooling2D(pool_size=(2,2),strides=2)(X)\n",
    "    print(np.shape(X))\n",
    "    X = Flatten()(X)\n",
    "    print(np.shape(X))\n",
    "    X = Dense(120, activation='relu', kernel_initializer='he_normal')(X)\n",
    "    print(np.shape(X))\n",
    "    X = Dense(84, activation='relu', kernel_initializer='he_normal')(X)\n",
    "    print(np.shape(X))\n",
    "    predictions = Dense(10, activation=\"softmax\")(X)\n",
    "    print(np.shape(predictions))\n",
    "    # Create model. This creates your Keras model instance, you'll use this instance to train/test the model.\n",
    "    model = Model(inputs = X_input, outputs = predictions, name='Lenet5Model')\n",
    "    return model"
   ]
  },
  {
   "cell_type": "code",
   "execution_count": 34,
   "metadata": {},
   "outputs": [
    {
     "name": "stdout",
     "output_type": "stream",
     "text": [
      "(None, 32, 32, 1)\n",
      "(None, 28, 28, 6)\n",
      "(None, 14, 14, 6)\n",
      "(None, 10, 10, 16)\n",
      "(None, 5, 5, 16)\n",
      "(None, 400)\n",
      "(None, 120)\n",
      "(None, 84)\n",
      "(None, 84)\n",
      "Epoch 1/300\n",
      "591/591 [==============================] - 21s 36ms/step - loss: 0.4312 - accuracy: 0.8646 - val_loss: 0.1839 - val_accuracy: 0.9469\n",
      "Epoch 2/300\n",
      "591/591 [==============================] - 20s 34ms/step - loss: 0.2280 - accuracy: 0.9297 - val_loss: 0.1360 - val_accuracy: 0.9619\n",
      "Epoch 3/300\n",
      "591/591 [==============================] - 20s 34ms/step - loss: 0.1825 - accuracy: 0.9426 - val_loss: 0.1100 - val_accuracy: 0.9662\n",
      "Epoch 4/300\n",
      "591/591 [==============================] - 20s 34ms/step - loss: 0.1560 - accuracy: 0.9510 - val_loss: 0.1059 - val_accuracy: 0.9724\n",
      "Epoch 5/300\n",
      "591/591 [==============================] - 21s 35ms/step - loss: 0.1399 - accuracy: 0.9565 - val_loss: 0.1193 - val_accuracy: 0.9669\n",
      "Epoch 6/300\n",
      "591/591 [==============================] - 20s 34ms/step - loss: 0.1329 - accuracy: 0.9570 - val_loss: 0.0999 - val_accuracy: 0.9702\n",
      "Epoch 7/300\n",
      "591/591 [==============================] - 20s 34ms/step - loss: 0.1273 - accuracy: 0.9605 - val_loss: 0.0872 - val_accuracy: 0.9707\n",
      "Epoch 8/300\n",
      "591/591 [==============================] - 21s 35ms/step - loss: 0.1166 - accuracy: 0.9633 - val_loss: 0.0796 - val_accuracy: 0.9748\n",
      "Epoch 9/300\n",
      "591/591 [==============================] - 20s 34ms/step - loss: 0.1101 - accuracy: 0.9648 - val_loss: 0.0945 - val_accuracy: 0.9719\n",
      "Epoch 10/300\n",
      "591/591 [==============================] - 20s 34ms/step - loss: 0.1079 - accuracy: 0.9649 - val_loss: 0.0847 - val_accuracy: 0.9748\n",
      "Epoch 11/300\n",
      "591/591 [==============================] - 20s 34ms/step - loss: 0.1033 - accuracy: 0.9671 - val_loss: 0.0709 - val_accuracy: 0.9781\n",
      "Epoch 12/300\n",
      "591/591 [==============================] - 20s 34ms/step - loss: 0.1009 - accuracy: 0.9681 - val_loss: 0.0729 - val_accuracy: 0.9790\n",
      "Epoch 13/300\n",
      "591/591 [==============================] - 21s 35ms/step - loss: 0.0937 - accuracy: 0.9700 - val_loss: 0.0680 - val_accuracy: 0.9779\n",
      "Epoch 14/300\n",
      "591/591 [==============================] - 20s 34ms/step - loss: 0.0920 - accuracy: 0.9702 - val_loss: 0.0680 - val_accuracy: 0.9790\n",
      "Epoch 15/300\n",
      "591/591 [==============================] - 20s 35ms/step - loss: 0.0884 - accuracy: 0.9719 - val_loss: 0.0642 - val_accuracy: 0.9824\n",
      "Epoch 16/300\n",
      "591/591 [==============================] - 20s 34ms/step - loss: 0.0872 - accuracy: 0.9720 - val_loss: 0.0689 - val_accuracy: 0.9824\n",
      "Epoch 17/300\n",
      "591/591 [==============================] - 20s 34ms/step - loss: 0.0838 - accuracy: 0.9728 - val_loss: 0.0674 - val_accuracy: 0.9783\n",
      "Epoch 18/300\n",
      "591/591 [==============================] - 20s 35ms/step - loss: 0.0848 - accuracy: 0.9728 - val_loss: 0.0724 - val_accuracy: 0.9790\n",
      "Epoch 19/300\n",
      "591/591 [==============================] - 20s 34ms/step - loss: 0.0793 - accuracy: 0.9749 - val_loss: 0.0725 - val_accuracy: 0.9793\n",
      "Epoch 20/300\n",
      "591/591 [==============================] - 21s 35ms/step - loss: 0.0778 - accuracy: 0.9747 - val_loss: 0.0685 - val_accuracy: 0.9826\n",
      "Epoch 21/300\n",
      "591/591 [==============================] - 20s 34ms/step - loss: 0.0800 - accuracy: 0.9751 - val_loss: 0.0691 - val_accuracy: 0.9817\n",
      "Epoch 22/300\n",
      "589/591 [============================>.] - ETA: 0s - loss: 0.0731 - accuracy: 0.9761\n",
      "Epoch 00022: ReduceLROnPlateau reducing learning rate to 0.0005000000237487257.\n",
      "591/591 [==============================] - 20s 34ms/step - loss: 0.0729 - accuracy: 0.9761 - val_loss: 0.0643 - val_accuracy: 0.9805\n",
      "Epoch 23/300\n",
      "591/591 [==============================] - 20s 35ms/step - loss: 0.0625 - accuracy: 0.9795 - val_loss: 0.0615 - val_accuracy: 0.9817\n",
      "Epoch 24/300\n",
      "591/591 [==============================] - 21s 35ms/step - loss: 0.0609 - accuracy: 0.9807 - val_loss: 0.0548 - val_accuracy: 0.9831\n",
      "Epoch 25/300\n",
      "591/591 [==============================] - 20s 34ms/step - loss: 0.0595 - accuracy: 0.9803 - val_loss: 0.0579 - val_accuracy: 0.9843\n",
      "Epoch 26/300\n",
      "591/591 [==============================] - 21s 35ms/step - loss: 0.0568 - accuracy: 0.9814 - val_loss: 0.0627 - val_accuracy: 0.9817\n",
      "Epoch 27/300\n",
      "591/591 [==============================] - 21s 35ms/step - loss: 0.0594 - accuracy: 0.9810 - val_loss: 0.0556 - val_accuracy: 0.9838\n",
      "Epoch 28/300\n",
      "591/591 [==============================] - 21s 35ms/step - loss: 0.0550 - accuracy: 0.9821 - val_loss: 0.0660 - val_accuracy: 0.9814\n",
      "Epoch 29/300\n",
      "591/591 [==============================] - 20s 35ms/step - loss: 0.0557 - accuracy: 0.9818 - val_loss: 0.0551 - val_accuracy: 0.9826\n",
      "Epoch 30/300\n",
      "591/591 [==============================] - 20s 35ms/step - loss: 0.0537 - accuracy: 0.9827 - val_loss: 0.0599 - val_accuracy: 0.9812\n",
      "Epoch 31/300\n",
      "590/591 [============================>.] - ETA: 0s - loss: 0.0550 - accuracy: 0.9825\n",
      "Epoch 00031: ReduceLROnPlateau reducing learning rate to 0.0002500000118743628.\n",
      "591/591 [==============================] - 20s 35ms/step - loss: 0.0549 - accuracy: 0.9826 - val_loss: 0.0593 - val_accuracy: 0.9833\n",
      "Epoch 32/300\n",
      "591/591 [==============================] - 21s 35ms/step - loss: 0.0486 - accuracy: 0.9837 - val_loss: 0.0584 - val_accuracy: 0.9829\n",
      "Epoch 33/300\n",
      "591/591 [==============================] - 21s 35ms/step - loss: 0.0429 - accuracy: 0.9866 - val_loss: 0.0561 - val_accuracy: 0.9840\n",
      "Epoch 34/300\n",
      "591/591 [==============================] - 21s 35ms/step - loss: 0.0449 - accuracy: 0.9850 - val_loss: 0.0603 - val_accuracy: 0.9826\n",
      "Epoch 35/300\n",
      "591/591 [==============================] - 20s 35ms/step - loss: 0.0450 - accuracy: 0.9855 - val_loss: 0.0547 - val_accuracy: 0.9833\n",
      "Epoch 36/300\n",
      "591/591 [==============================] - 21s 35ms/step - loss: 0.0439 - accuracy: 0.9857 - val_loss: 0.0594 - val_accuracy: 0.9824\n",
      "Epoch 37/300\n",
      "591/591 [==============================] - 21s 35ms/step - loss: 0.0447 - accuracy: 0.9854 - val_loss: 0.0596 - val_accuracy: 0.9838\n",
      "Epoch 38/300\n",
      "589/591 [============================>.] - ETA: 0s - loss: 0.0422 - accuracy: 0.9866\n",
      "Epoch 00038: ReduceLROnPlateau reducing learning rate to 0.0001250000059371814.\n",
      "591/591 [==============================] - 20s 34ms/step - loss: 0.0421 - accuracy: 0.9866 - val_loss: 0.0577 - val_accuracy: 0.9845\n",
      "Epoch 39/300\n",
      "591/591 [==============================] - 20s 34ms/step - loss: 0.0427 - accuracy: 0.9859 - val_loss: 0.0581 - val_accuracy: 0.9845\n",
      "Epoch 40/300\n",
      "591/591 [==============================] - 21s 35ms/step - loss: 0.0391 - accuracy: 0.9874 - val_loss: 0.0563 - val_accuracy: 0.9845\n",
      "Epoch 41/300\n",
      "591/591 [==============================] - 20s 34ms/step - loss: 0.0388 - accuracy: 0.9869 - val_loss: 0.0551 - val_accuracy: 0.9850\n",
      "Epoch 42/300\n",
      "591/591 [==============================] - 20s 34ms/step - loss: 0.0376 - accuracy: 0.9877 - val_loss: 0.0570 - val_accuracy: 0.9838\n",
      "Epoch 43/300\n",
      "591/591 [==============================] - 20s 35ms/step - loss: 0.0370 - accuracy: 0.9878 - val_loss: 0.0572 - val_accuracy: 0.9852\n",
      "Epoch 44/300\n",
      "591/591 [==============================] - 21s 35ms/step - loss: 0.0388 - accuracy: 0.9873 - val_loss: 0.0561 - val_accuracy: 0.9848\n",
      "Epoch 45/300\n",
      "591/591 [==============================] - 21s 35ms/step - loss: 0.0375 - accuracy: 0.9872 - val_loss: 0.0542 - val_accuracy: 0.9860\n",
      "Epoch 46/300\n",
      "591/591 [==============================] - 20s 34ms/step - loss: 0.0370 - accuracy: 0.9882 - val_loss: 0.0565 - val_accuracy: 0.9850\n",
      "Epoch 47/300\n",
      "591/591 [==============================] - 20s 35ms/step - loss: 0.0373 - accuracy: 0.9876 - val_loss: 0.0572 - val_accuracy: 0.9843\n",
      "Epoch 48/300\n",
      "591/591 [==============================] - 21s 35ms/step - loss: 0.0398 - accuracy: 0.9863 - val_loss: 0.0582 - val_accuracy: 0.9843\n",
      "Epoch 49/300\n",
      "591/591 [==============================] - 21s 35ms/step - loss: 0.0356 - accuracy: 0.9888 - val_loss: 0.0582 - val_accuracy: 0.9857\n",
      "Epoch 50/300\n",
      "591/591 [==============================] - 21s 35ms/step - loss: 0.0351 - accuracy: 0.9879 - val_loss: 0.0605 - val_accuracy: 0.9848\n",
      "Epoch 51/300\n",
      "591/591 [==============================] - 20s 35ms/step - loss: 0.0392 - accuracy: 0.9869 - val_loss: 0.0573 - val_accuracy: 0.9848\n",
      "Epoch 52/300\n",
      "589/591 [============================>.] - ETA: 0s - loss: 0.0379 - accuracy: 0.9872\n",
      "Epoch 00052: ReduceLROnPlateau reducing learning rate to 6.25000029685907e-05.\n",
      "591/591 [==============================] - 21s 35ms/step - loss: 0.0380 - accuracy: 0.9871 - val_loss: 0.0583 - val_accuracy: 0.9840\n"
     ]
    },
    {
     "name": "stdout",
     "output_type": "stream",
     "text": [
      "Epoch 53/300\n",
      "591/591 [==============================] - 20s 34ms/step - loss: 0.0346 - accuracy: 0.9881 - val_loss: 0.0581 - val_accuracy: 0.9843\n",
      "Epoch 54/300\n",
      "591/591 [==============================] - 20s 34ms/step - loss: 0.0338 - accuracy: 0.9887 - val_loss: 0.0556 - val_accuracy: 0.9845\n",
      "Epoch 55/300\n",
      "591/591 [==============================] - 20s 34ms/step - loss: 0.0362 - accuracy: 0.9880 - val_loss: 0.0555 - val_accuracy: 0.9857\n",
      "Epoch 56/300\n",
      "591/591 [==============================] - 20s 35ms/step - loss: 0.0338 - accuracy: 0.9884 - val_loss: 0.0578 - val_accuracy: 0.9855\n",
      "Epoch 57/300\n",
      "591/591 [==============================] - 20s 34ms/step - loss: 0.0337 - accuracy: 0.9889 - val_loss: 0.0560 - val_accuracy: 0.9848\n",
      "Epoch 58/300\n",
      "591/591 [==============================] - 20s 34ms/step - loss: 0.0363 - accuracy: 0.9879 - val_loss: 0.0568 - val_accuracy: 0.9843\n",
      "Epoch 59/300\n",
      "590/591 [============================>.] - ETA: 0s - loss: 0.0335 - accuracy: 0.9884\n",
      "Epoch 00059: ReduceLROnPlateau reducing learning rate to 3.125000148429535e-05.\n",
      "591/591 [==============================] - 20s 34ms/step - loss: 0.0334 - accuracy: 0.9884 - val_loss: 0.0573 - val_accuracy: 0.9848\n",
      "Epoch 60/300\n",
      "591/591 [==============================] - 20s 34ms/step - loss: 0.0337 - accuracy: 0.9885 - val_loss: 0.0586 - val_accuracy: 0.9840\n",
      "Epoch 61/300\n",
      "591/591 [==============================] - 20s 34ms/step - loss: 0.0321 - accuracy: 0.9891 - val_loss: 0.0590 - val_accuracy: 0.9840\n",
      "Epoch 62/300\n",
      "591/591 [==============================] - 20s 34ms/step - loss: 0.0343 - accuracy: 0.9881 - val_loss: 0.0574 - val_accuracy: 0.9845\n",
      "Epoch 63/300\n",
      "591/591 [==============================] - 21s 35ms/step - loss: 0.0335 - accuracy: 0.9893 - val_loss: 0.0563 - val_accuracy: 0.9852\n",
      "Epoch 64/300\n",
      "591/591 [==============================] - 20s 34ms/step - loss: 0.0345 - accuracy: 0.9883 - val_loss: 0.0576 - val_accuracy: 0.9843\n",
      "Epoch 65/300\n",
      "591/591 [==============================] - 20s 35ms/step - loss: 0.0334 - accuracy: 0.9887 - val_loss: 0.0571 - val_accuracy: 0.9852\n",
      "Epoch 66/300\n",
      "589/591 [============================>.] - ETA: 0s - loss: 0.0323 - accuracy: 0.9892\n",
      "Epoch 00066: ReduceLROnPlateau reducing learning rate to 1.5625000742147677e-05.\n",
      "591/591 [==============================] - 20s 34ms/step - loss: 0.0327 - accuracy: 0.9891 - val_loss: 0.0562 - val_accuracy: 0.9843\n",
      "Epoch 67/300\n",
      "591/591 [==============================] - 20s 34ms/step - loss: 0.0347 - accuracy: 0.9885 - val_loss: 0.0572 - val_accuracy: 0.9845\n",
      "Epoch 68/300\n",
      "591/591 [==============================] - 20s 34ms/step - loss: 0.0322 - accuracy: 0.9891 - val_loss: 0.0586 - val_accuracy: 0.9843\n",
      "Epoch 69/300\n",
      "591/591 [==============================] - 20s 35ms/step - loss: 0.0333 - accuracy: 0.9896 - val_loss: 0.0587 - val_accuracy: 0.9845\n",
      "Epoch 70/300\n",
      "591/591 [==============================] - 21s 35ms/step - loss: 0.0323 - accuracy: 0.9895 - val_loss: 0.0580 - val_accuracy: 0.9850\n",
      "Epoch 71/300\n",
      "591/591 [==============================] - 20s 34ms/step - loss: 0.0326 - accuracy: 0.9892 - val_loss: 0.0573 - val_accuracy: 0.9843\n",
      "Epoch 72/300\n",
      "591/591 [==============================] - 20s 34ms/step - loss: 0.0321 - accuracy: 0.9892 - val_loss: 0.0575 - val_accuracy: 0.9850\n",
      "Epoch 73/300\n",
      "589/591 [============================>.] - ETA: 0s - loss: 0.0326 - accuracy: 0.9892\n",
      "Epoch 00073: ReduceLROnPlateau reducing learning rate to 7.812500371073838e-06.\n",
      "591/591 [==============================] - 21s 35ms/step - loss: 0.0325 - accuracy: 0.9892 - val_loss: 0.0573 - val_accuracy: 0.9850\n",
      "Epoch 74/300\n",
      "591/591 [==============================] - 20s 34ms/step - loss: 0.0337 - accuracy: 0.9887 - val_loss: 0.0583 - val_accuracy: 0.9848\n",
      "Epoch 75/300\n",
      "591/591 [==============================] - 20s 34ms/step - loss: 0.0353 - accuracy: 0.9885 - val_loss: 0.0579 - val_accuracy: 0.9843\n",
      "Epoch 76/300\n",
      "591/591 [==============================] - 20s 34ms/step - loss: 0.0319 - accuracy: 0.9895 - val_loss: 0.0577 - val_accuracy: 0.9848\n",
      "Epoch 77/300\n",
      "591/591 [==============================] - 21s 35ms/step - loss: 0.0331 - accuracy: 0.9892 - val_loss: 0.0578 - val_accuracy: 0.9848\n",
      "Epoch 78/300\n",
      "591/591 [==============================] - 20s 34ms/step - loss: 0.0320 - accuracy: 0.9895 - val_loss: 0.0578 - val_accuracy: 0.9843\n",
      "Epoch 79/300\n",
      "591/591 [==============================] - 20s 34ms/step - loss: 0.0317 - accuracy: 0.9896 - val_loss: 0.0581 - val_accuracy: 0.9845\n",
      "Epoch 80/300\n",
      "589/591 [============================>.] - ETA: 0s - loss: 0.0317 - accuracy: 0.9897\n",
      "Epoch 00080: ReduceLROnPlateau reducing learning rate to 3.906250185536919e-06.\n",
      "591/591 [==============================] - 20s 34ms/step - loss: 0.0316 - accuracy: 0.9897 - val_loss: 0.0577 - val_accuracy: 0.9848\n",
      "Epoch 81/300\n",
      "591/591 [==============================] - 20s 34ms/step - loss: 0.0321 - accuracy: 0.9890 - val_loss: 0.0579 - val_accuracy: 0.9852\n",
      "Epoch 82/300\n",
      "591/591 [==============================] - 20s 34ms/step - loss: 0.0325 - accuracy: 0.9884 - val_loss: 0.0580 - val_accuracy: 0.9848\n",
      "Epoch 83/300\n",
      "591/591 [==============================] - 20s 34ms/step - loss: 0.0321 - accuracy: 0.9891 - val_loss: 0.0581 - val_accuracy: 0.9848\n",
      "Epoch 84/300\n",
      "591/591 [==============================] - 20s 34ms/step - loss: 0.0314 - accuracy: 0.9887 - val_loss: 0.0578 - val_accuracy: 0.9850\n",
      "Epoch 85/300\n",
      "591/591 [==============================] - 20s 34ms/step - loss: 0.0328 - accuracy: 0.9886 - val_loss: 0.0578 - val_accuracy: 0.9850\n",
      "Epoch 86/300\n",
      "591/591 [==============================] - 21s 35ms/step - loss: 0.0312 - accuracy: 0.9889 - val_loss: 0.0579 - val_accuracy: 0.9850\n",
      "Epoch 87/300\n",
      "589/591 [============================>.] - ETA: 0s - loss: 0.0313 - accuracy: 0.9902\n",
      "Epoch 00087: ReduceLROnPlateau reducing learning rate to 1.9531250927684596e-06.\n",
      "591/591 [==============================] - 20s 34ms/step - loss: 0.0313 - accuracy: 0.9902 - val_loss: 0.0579 - val_accuracy: 0.9850\n",
      "Epoch 88/300\n",
      "591/591 [==============================] - 20s 35ms/step - loss: 0.0314 - accuracy: 0.9896 - val_loss: 0.0578 - val_accuracy: 0.9850\n",
      "Epoch 89/300\n",
      "591/591 [==============================] - 20s 35ms/step - loss: 0.0310 - accuracy: 0.9896 - val_loss: 0.0579 - val_accuracy: 0.9850\n",
      "Epoch 90/300\n",
      "591/591 [==============================] - 20s 35ms/step - loss: 0.0334 - accuracy: 0.9893 - val_loss: 0.0579 - val_accuracy: 0.9850\n",
      "Epoch 91/300\n",
      "591/591 [==============================] - 20s 34ms/step - loss: 0.0319 - accuracy: 0.9895 - val_loss: 0.0579 - val_accuracy: 0.9850\n",
      "Epoch 92/300\n",
      "591/591 [==============================] - 20s 34ms/step - loss: 0.0324 - accuracy: 0.9889 - val_loss: 0.0579 - val_accuracy: 0.9850\n",
      "Epoch 93/300\n",
      "591/591 [==============================] - 21s 35ms/step - loss: 0.0319 - accuracy: 0.9892 - val_loss: 0.0578 - val_accuracy: 0.9850\n",
      "Epoch 94/300\n",
      "589/591 [============================>.] - ETA: 0s - loss: 0.0319 - accuracy: 0.9894\n",
      "Epoch 00094: ReduceLROnPlateau reducing learning rate to 9.765625463842298e-07.\n",
      "591/591 [==============================] - 20s 35ms/step - loss: 0.0319 - accuracy: 0.9894 - val_loss: 0.0578 - val_accuracy: 0.9850\n",
      "Epoch 95/300\n",
      "591/591 [==============================] - 20s 34ms/step - loss: 0.0320 - accuracy: 0.9891 - val_loss: 0.0577 - val_accuracy: 0.9850\n",
      "Epoch 96/300\n",
      "591/591 [==============================] - 20s 35ms/step - loss: 0.0308 - accuracy: 0.9896 - val_loss: 0.0577 - val_accuracy: 0.9850\n",
      "Epoch 97/300\n",
      "591/591 [==============================] - 21s 35ms/step - loss: 0.0324 - accuracy: 0.9888 - val_loss: 0.0578 - val_accuracy: 0.9850\n",
      "Epoch 98/300\n",
      "591/591 [==============================] - 20s 34ms/step - loss: 0.0326 - accuracy: 0.9893 - val_loss: 0.0578 - val_accuracy: 0.9850\n",
      "Epoch 99/300\n",
      "591/591 [==============================] - 20s 34ms/step - loss: 0.0313 - accuracy: 0.9891 - val_loss: 0.0578 - val_accuracy: 0.9850\n",
      "Epoch 100/300\n",
      "591/591 [==============================] - 20s 34ms/step - loss: 0.0323 - accuracy: 0.9891 - val_loss: 0.0578 - val_accuracy: 0.9850\n",
      "Epoch 101/300\n",
      "590/591 [============================>.] - ETA: 0s - loss: 0.0315 - accuracy: 0.9895\n",
      "Epoch 00101: ReduceLROnPlateau reducing learning rate to 4.882812731921149e-07.\n",
      "591/591 [==============================] - 21s 35ms/step - loss: 0.0316 - accuracy: 0.9895 - val_loss: 0.0578 - val_accuracy: 0.9850\n"
     ]
    },
    {
     "name": "stdout",
     "output_type": "stream",
     "text": [
      "Epoch 102/300\n",
      "591/591 [==============================] - 20s 34ms/step - loss: 0.0328 - accuracy: 0.9887 - val_loss: 0.0578 - val_accuracy: 0.9850\n",
      "Epoch 103/300\n",
      "591/591 [==============================] - 20s 34ms/step - loss: 0.0309 - accuracy: 0.9900 - val_loss: 0.0578 - val_accuracy: 0.9850\n",
      "Epoch 104/300\n",
      "591/591 [==============================] - 20s 34ms/step - loss: 0.0318 - accuracy: 0.9893 - val_loss: 0.0578 - val_accuracy: 0.9850\n",
      "Epoch 105/300\n",
      "591/591 [==============================] - 20s 34ms/step - loss: 0.0329 - accuracy: 0.9891 - val_loss: 0.0578 - val_accuracy: 0.9850\n",
      "Epoch 106/300\n",
      "591/591 [==============================] - 20s 34ms/step - loss: 0.0342 - accuracy: 0.9890 - val_loss: 0.0578 - val_accuracy: 0.9850\n",
      "Epoch 107/300\n",
      "591/591 [==============================] - 20s 34ms/step - loss: 0.0307 - accuracy: 0.9900 - val_loss: 0.0577 - val_accuracy: 0.9850\n",
      "Epoch 108/300\n",
      "589/591 [============================>.] - ETA: 0s - loss: 0.0333 - accuracy: 0.9889\n",
      "Epoch 00108: ReduceLROnPlateau reducing learning rate to 2.4414063659605745e-07.\n",
      "591/591 [==============================] - 20s 34ms/step - loss: 0.0333 - accuracy: 0.9889 - val_loss: 0.0578 - val_accuracy: 0.9850\n",
      "Epoch 109/300\n",
      "591/591 [==============================] - 20s 34ms/step - loss: 0.0323 - accuracy: 0.9896 - val_loss: 0.0578 - val_accuracy: 0.9850\n",
      "Epoch 110/300\n",
      "591/591 [==============================] - 20s 34ms/step - loss: 0.0330 - accuracy: 0.9895 - val_loss: 0.0578 - val_accuracy: 0.9850\n",
      "Epoch 111/300\n",
      "591/591 [==============================] - 20s 34ms/step - loss: 0.0319 - accuracy: 0.9901 - val_loss: 0.0578 - val_accuracy: 0.9850\n",
      "Epoch 112/300\n",
      "591/591 [==============================] - 20s 34ms/step - loss: 0.0327 - accuracy: 0.9893 - val_loss: 0.0578 - val_accuracy: 0.9850\n",
      "Epoch 113/300\n",
      "591/591 [==============================] - 20s 34ms/step - loss: 0.0302 - accuracy: 0.9897 - val_loss: 0.0578 - val_accuracy: 0.9850\n",
      "Epoch 114/300\n",
      "591/591 [==============================] - 20s 35ms/step - loss: 0.0313 - accuracy: 0.9894 - val_loss: 0.0578 - val_accuracy: 0.9850\n",
      "Epoch 115/300\n",
      "590/591 [============================>.] - ETA: 0s - loss: 0.0340 - accuracy: 0.9885\n",
      "Epoch 00115: ReduceLROnPlateau reducing learning rate to 1.2207031829802872e-07.\n",
      "591/591 [==============================] - 20s 34ms/step - loss: 0.0340 - accuracy: 0.9886 - val_loss: 0.0578 - val_accuracy: 0.9850\n",
      "Epoch 116/300\n",
      "591/591 [==============================] - 20s 35ms/step - loss: 0.0315 - accuracy: 0.9895 - val_loss: 0.0578 - val_accuracy: 0.9850\n",
      "Epoch 117/300\n",
      "591/591 [==============================] - 21s 35ms/step - loss: 0.0327 - accuracy: 0.9891 - val_loss: 0.0578 - val_accuracy: 0.9850\n",
      "Epoch 118/300\n",
      "591/591 [==============================] - 20s 34ms/step - loss: 0.0323 - accuracy: 0.9894 - val_loss: 0.0578 - val_accuracy: 0.9850\n",
      "Epoch 119/300\n",
      "591/591 [==============================] - 21s 35ms/step - loss: 0.0320 - accuracy: 0.9898 - val_loss: 0.0578 - val_accuracy: 0.9850\n",
      "Epoch 120/300\n",
      "591/591 [==============================] - 20s 34ms/step - loss: 0.0323 - accuracy: 0.9890 - val_loss: 0.0578 - val_accuracy: 0.9850\n",
      "Epoch 121/300\n",
      "591/591 [==============================] - 20s 35ms/step - loss: 0.0322 - accuracy: 0.9893 - val_loss: 0.0578 - val_accuracy: 0.9850\n",
      "Epoch 122/300\n",
      "589/591 [============================>.] - ETA: 0s - loss: 0.0317 - accuracy: 0.9895\n",
      "Epoch 00122: ReduceLROnPlateau reducing learning rate to 1e-07.\n",
      "591/591 [==============================] - 20s 34ms/step - loss: 0.0318 - accuracy: 0.9895 - val_loss: 0.0578 - val_accuracy: 0.9850\n",
      "Epoch 123/300\n",
      "591/591 [==============================] - 20s 34ms/step - loss: 0.0295 - accuracy: 0.9901 - val_loss: 0.0578 - val_accuracy: 0.9850\n",
      "Epoch 124/300\n",
      "591/591 [==============================] - 20s 34ms/step - loss: 0.0308 - accuracy: 0.9898 - val_loss: 0.0578 - val_accuracy: 0.9850\n",
      "Epoch 125/300\n",
      "591/591 [==============================] - 20s 35ms/step - loss: 0.0331 - accuracy: 0.9887 - val_loss: 0.0578 - val_accuracy: 0.9850\n",
      "Epoch 126/300\n",
      "591/591 [==============================] - 20s 34ms/step - loss: 0.0303 - accuracy: 0.9905 - val_loss: 0.0578 - val_accuracy: 0.9850\n",
      "Epoch 127/300\n",
      "591/591 [==============================] - 20s 34ms/step - loss: 0.0314 - accuracy: 0.9900 - val_loss: 0.0578 - val_accuracy: 0.9850\n",
      "Epoch 128/300\n",
      "591/591 [==============================] - 20s 34ms/step - loss: 0.0320 - accuracy: 0.9891 - val_loss: 0.0578 - val_accuracy: 0.9848\n",
      "Epoch 129/300\n",
      "589/591 [============================>.] - ETA: 0s - loss: 0.0316 - accuracy: 0.9895\n",
      "Epoch 00129: ReduceLROnPlateau reducing learning rate to 1e-07.\n",
      "591/591 [==============================] - 20s 34ms/step - loss: 0.0316 - accuracy: 0.9896 - val_loss: 0.0579 - val_accuracy: 0.9848\n",
      "Epoch 130/300\n",
      "591/591 [==============================] - 20s 34ms/step - loss: 0.0301 - accuracy: 0.9896 - val_loss: 0.0579 - val_accuracy: 0.9848\n",
      "Epoch 131/300\n",
      "591/591 [==============================] - 20s 34ms/step - loss: 0.0325 - accuracy: 0.9890 - val_loss: 0.0579 - val_accuracy: 0.9848\n",
      "Epoch 132/300\n",
      "591/591 [==============================] - 21s 35ms/step - loss: 0.0302 - accuracy: 0.9901 - val_loss: 0.0579 - val_accuracy: 0.9848\n",
      "Epoch 133/300\n",
      "591/591 [==============================] - 20s 34ms/step - loss: 0.0326 - accuracy: 0.9894 - val_loss: 0.0579 - val_accuracy: 0.9848\n",
      "Epoch 134/300\n",
      "591/591 [==============================] - 20s 34ms/step - loss: 0.0300 - accuracy: 0.9900 - val_loss: 0.0579 - val_accuracy: 0.9848\n",
      "Epoch 135/300\n",
      "591/591 [==============================] - 20s 34ms/step - loss: 0.0330 - accuracy: 0.9895 - val_loss: 0.0579 - val_accuracy: 0.9848\n",
      "Epoch 136/300\n",
      "589/591 [============================>.] - ETA: 0s - loss: 0.0321 - accuracy: 0.9889\n",
      "Epoch 00136: ReduceLROnPlateau reducing learning rate to 1e-07.\n",
      "591/591 [==============================] - 20s 34ms/step - loss: 0.0321 - accuracy: 0.9889 - val_loss: 0.0579 - val_accuracy: 0.9848\n",
      "Epoch 137/300\n",
      "591/591 [==============================] - 20s 34ms/step - loss: 0.0311 - accuracy: 0.9897 - val_loss: 0.0579 - val_accuracy: 0.9848\n",
      "Epoch 138/300\n",
      "591/591 [==============================] - 20s 34ms/step - loss: 0.0332 - accuracy: 0.9890 - val_loss: 0.0579 - val_accuracy: 0.9848\n",
      "Epoch 139/300\n",
      "591/591 [==============================] - 21s 36ms/step - loss: 0.0325 - accuracy: 0.9889 - val_loss: 0.0579 - val_accuracy: 0.9848\n",
      "Epoch 140/300\n",
      "591/591 [==============================] - 20s 34ms/step - loss: 0.0309 - accuracy: 0.9901 - val_loss: 0.0579 - val_accuracy: 0.9848\n",
      "Epoch 141/300\n",
      "591/591 [==============================] - 20s 34ms/step - loss: 0.0320 - accuracy: 0.9893 - val_loss: 0.0579 - val_accuracy: 0.9848\n",
      "Epoch 142/300\n",
      "591/591 [==============================] - 20s 34ms/step - loss: 0.0319 - accuracy: 0.9890 - val_loss: 0.0579 - val_accuracy: 0.9848\n",
      "Epoch 143/300\n",
      "589/591 [============================>.] - ETA: 0s - loss: 0.0312 - accuracy: 0.9894\n",
      "Epoch 00143: ReduceLROnPlateau reducing learning rate to 1e-07.\n",
      "591/591 [==============================] - 20s 34ms/step - loss: 0.0312 - accuracy: 0.9894 - val_loss: 0.0579 - val_accuracy: 0.9848\n",
      "Epoch 144/300\n",
      "591/591 [==============================] - 20s 34ms/step - loss: 0.0310 - accuracy: 0.9897 - val_loss: 0.0579 - val_accuracy: 0.9848\n",
      "Epoch 145/300\n",
      "591/591 [==============================] - 20s 34ms/step - loss: 0.0299 - accuracy: 0.9898 - val_loss: 0.0579 - val_accuracy: 0.9848\n",
      "Epoch 146/300\n",
      "591/591 [==============================] - 20s 34ms/step - loss: 0.0337 - accuracy: 0.9892 - val_loss: 0.0579 - val_accuracy: 0.9848\n",
      "Epoch 147/300\n",
      "591/591 [==============================] - 20s 34ms/step - loss: 0.0332 - accuracy: 0.9886 - val_loss: 0.0579 - val_accuracy: 0.9848\n",
      "Epoch 148/300\n",
      "591/591 [==============================] - 20s 34ms/step - loss: 0.0302 - accuracy: 0.9896 - val_loss: 0.0579 - val_accuracy: 0.9848\n",
      "Epoch 149/300\n",
      "591/591 [==============================] - 20s 34ms/step - loss: 0.0315 - accuracy: 0.9893 - val_loss: 0.0579 - val_accuracy: 0.9848\n",
      "Epoch 150/300\n",
      "589/591 [============================>.] - ETA: 0s - loss: 0.0302 - accuracy: 0.9898\n",
      "Epoch 00150: ReduceLROnPlateau reducing learning rate to 1e-07.\n",
      "591/591 [==============================] - 20s 34ms/step - loss: 0.0302 - accuracy: 0.9898 - val_loss: 0.0579 - val_accuracy: 0.9848\n"
     ]
    },
    {
     "name": "stdout",
     "output_type": "stream",
     "text": [
      "Epoch 151/300\n",
      "591/591 [==============================] - 20s 34ms/step - loss: 0.0315 - accuracy: 0.9889 - val_loss: 0.0579 - val_accuracy: 0.9848\n",
      "Epoch 152/300\n",
      "591/591 [==============================] - 20s 34ms/step - loss: 0.0314 - accuracy: 0.9898 - val_loss: 0.0579 - val_accuracy: 0.9848\n",
      "Epoch 153/300\n",
      "591/591 [==============================] - 20s 34ms/step - loss: 0.0338 - accuracy: 0.9896 - val_loss: 0.0579 - val_accuracy: 0.9848\n",
      "Epoch 154/300\n",
      "591/591 [==============================] - 20s 34ms/step - loss: 0.0317 - accuracy: 0.9891 - val_loss: 0.0579 - val_accuracy: 0.9848\n",
      "Epoch 155/300\n",
      "591/591 [==============================] - 20s 34ms/step - loss: 0.0312 - accuracy: 0.9898 - val_loss: 0.0579 - val_accuracy: 0.9848\n",
      "Epoch 156/300\n",
      "591/591 [==============================] - 20s 34ms/step - loss: 0.0327 - accuracy: 0.9893 - val_loss: 0.0579 - val_accuracy: 0.9848\n",
      "Epoch 157/300\n",
      "589/591 [============================>.] - ETA: 0s - loss: 0.0311 - accuracy: 0.9894\n",
      "Epoch 00157: ReduceLROnPlateau reducing learning rate to 1e-07.\n",
      "591/591 [==============================] - 20s 34ms/step - loss: 0.0311 - accuracy: 0.9894 - val_loss: 0.0579 - val_accuracy: 0.9848\n",
      "Epoch 158/300\n",
      "591/591 [==============================] - 20s 35ms/step - loss: 0.0336 - accuracy: 0.9890 - val_loss: 0.0579 - val_accuracy: 0.9848\n",
      "Epoch 159/300\n",
      "591/591 [==============================] - 20s 34ms/step - loss: 0.0322 - accuracy: 0.9894 - val_loss: 0.0579 - val_accuracy: 0.9848\n",
      "Epoch 160/300\n",
      "591/591 [==============================] - 20s 34ms/step - loss: 0.0326 - accuracy: 0.9893 - val_loss: 0.0579 - val_accuracy: 0.9848\n",
      "Epoch 161/300\n",
      "591/591 [==============================] - 20s 34ms/step - loss: 0.0311 - accuracy: 0.9900 - val_loss: 0.0579 - val_accuracy: 0.9848\n",
      "Epoch 162/300\n",
      "591/591 [==============================] - 20s 34ms/step - loss: 0.0332 - accuracy: 0.9891 - val_loss: 0.0579 - val_accuracy: 0.9848\n",
      "Epoch 163/300\n",
      "591/591 [==============================] - 21s 35ms/step - loss: 0.0311 - accuracy: 0.9891 - val_loss: 0.0579 - val_accuracy: 0.9848\n",
      "Epoch 164/300\n",
      "589/591 [============================>.] - ETA: 0s - loss: 0.0314 - accuracy: 0.9894\n",
      "Epoch 00164: ReduceLROnPlateau reducing learning rate to 1e-07.\n",
      "591/591 [==============================] - 20s 34ms/step - loss: 0.0315 - accuracy: 0.9893 - val_loss: 0.0579 - val_accuracy: 0.9848\n",
      "Epoch 165/300\n",
      "591/591 [==============================] - 20s 34ms/step - loss: 0.0313 - accuracy: 0.9900 - val_loss: 0.0579 - val_accuracy: 0.9848\n",
      "Epoch 166/300\n",
      "591/591 [==============================] - 20s 34ms/step - loss: 0.0310 - accuracy: 0.9899 - val_loss: 0.0579 - val_accuracy: 0.9848\n",
      "Epoch 167/300\n",
      "591/591 [==============================] - 20s 34ms/step - loss: 0.0313 - accuracy: 0.9897 - val_loss: 0.0579 - val_accuracy: 0.9848\n",
      "Epoch 168/300\n",
      "591/591 [==============================] - 20s 34ms/step - loss: 0.0310 - accuracy: 0.9898 - val_loss: 0.0579 - val_accuracy: 0.9848\n",
      "Epoch 169/300\n",
      "591/591 [==============================] - 20s 34ms/step - loss: 0.0325 - accuracy: 0.9891 - val_loss: 0.0579 - val_accuracy: 0.9848\n",
      "Epoch 170/300\n",
      "591/591 [==============================] - 20s 34ms/step - loss: 0.0316 - accuracy: 0.9895 - val_loss: 0.0579 - val_accuracy: 0.9848\n",
      "Epoch 171/300\n",
      "403/591 [===================>..........] - ETA: 6s - loss: 0.0319 - accuracy: 0.9898"
     ]
    },
    {
     "ename": "KeyboardInterrupt",
     "evalue": "",
     "output_type": "error",
     "traceback": [
      "\u001b[0;31m---------------------------------------------------------------------------\u001b[0m",
      "\u001b[0;31mKeyboardInterrupt\u001b[0m                         Traceback (most recent call last)",
      "\u001b[0;32m<ipython-input-34-8b22e6a01280>\u001b[0m in \u001b[0;36m<module>\u001b[0;34m\u001b[0m\n\u001b[0;32m----> 1\u001b[0;31m \u001b[0mlval\u001b[0m\u001b[0;34m,\u001b[0m\u001b[0mlhis\u001b[0m\u001b[0;34m,\u001b[0m\u001b[0mlypred\u001b[0m\u001b[0;34m=\u001b[0m\u001b[0mrun\u001b[0m\u001b[0;34m(\u001b[0m\u001b[0mLenet5Model\u001b[0m\u001b[0;34m,\u001b[0m\u001b[0mXn_train\u001b[0m\u001b[0;34m,\u001b[0m\u001b[0mYe_train\u001b[0m\u001b[0;34m,\u001b[0m \u001b[0mXn_val\u001b[0m\u001b[0;34m,\u001b[0m \u001b[0mYe_val\u001b[0m\u001b[0;34m,\u001b[0m\u001b[0mXn_test\u001b[0m\u001b[0;34m,\u001b[0m\u001b[0;36m64\u001b[0m\u001b[0;34m,\u001b[0m\u001b[0;36m300\u001b[0m\u001b[0;34m)\u001b[0m\u001b[0;34m\u001b[0m\u001b[0;34m\u001b[0m\u001b[0m\n\u001b[0m",
      "\u001b[0;32m<ipython-input-33-c9c99af8ef03>\u001b[0m in \u001b[0;36mrun\u001b[0;34m(Model, xdata, ydata, xval, yval, xtest, bs, nb)\u001b[0m\n\u001b[1;32m      6\u001b[0m     \u001b[0;31m# reduce the learning rate by factor of 0.5 if the validation loss does not get lower in 7 epochs\u001b[0m\u001b[0;34m\u001b[0m\u001b[0;34m\u001b[0m\u001b[0;34m\u001b[0m\u001b[0m\n\u001b[1;32m      7\u001b[0m     \u001b[0mreduce_lr\u001b[0m \u001b[0;34m=\u001b[0m \u001b[0mReduceLROnPlateau\u001b[0m\u001b[0;34m(\u001b[0m\u001b[0mmonitor\u001b[0m\u001b[0;34m=\u001b[0m\u001b[0;34m'val_loss'\u001b[0m\u001b[0;34m,\u001b[0m \u001b[0mfactor\u001b[0m\u001b[0;34m=\u001b[0m\u001b[0;36m0.5\u001b[0m\u001b[0;34m,\u001b[0m \u001b[0mpatience\u001b[0m\u001b[0;34m=\u001b[0m\u001b[0;36m7\u001b[0m\u001b[0;34m,\u001b[0m \u001b[0mmin_lr\u001b[0m\u001b[0;34m=\u001b[0m\u001b[0;36m0.0000001\u001b[0m\u001b[0;34m,\u001b[0m \u001b[0mverbose\u001b[0m\u001b[0;34m=\u001b[0m\u001b[0;36m1\u001b[0m\u001b[0;34m)\u001b[0m\u001b[0;34m\u001b[0m\u001b[0;34m\u001b[0m\u001b[0m\n\u001b[0;32m----> 8\u001b[0;31m     \u001b[0mhistory\u001b[0m \u001b[0;34m=\u001b[0m \u001b[0mmodel\u001b[0m\u001b[0;34m.\u001b[0m\u001b[0mfit_generator\u001b[0m\u001b[0;34m(\u001b[0m\u001b[0mbatch_generator\u001b[0m\u001b[0;34m(\u001b[0m\u001b[0mxdata\u001b[0m\u001b[0;34m,\u001b[0m \u001b[0mydata\u001b[0m\u001b[0;34m,\u001b[0m \u001b[0mbatch_size\u001b[0m\u001b[0;34m=\u001b[0m\u001b[0mbs\u001b[0m\u001b[0;34m)\u001b[0m\u001b[0;34m,\u001b[0m\u001b[0msteps_per_epoch\u001b[0m\u001b[0;34m=\u001b[0m\u001b[0mnp\u001b[0m\u001b[0;34m.\u001b[0m\u001b[0mceil\u001b[0m\u001b[0;34m(\u001b[0m\u001b[0mydata\u001b[0m\u001b[0;34m.\u001b[0m\u001b[0mshape\u001b[0m\u001b[0;34m[\u001b[0m\u001b[0;36m0\u001b[0m\u001b[0;34m]\u001b[0m \u001b[0;34m/\u001b[0m \u001b[0mbs\u001b[0m\u001b[0;34m)\u001b[0m\u001b[0;34m,\u001b[0m\u001b[0mvalidation_data\u001b[0m\u001b[0;34m=\u001b[0m\u001b[0;34m(\u001b[0m\u001b[0mxval\u001b[0m\u001b[0;34m,\u001b[0m \u001b[0myval\u001b[0m\u001b[0;34m)\u001b[0m\u001b[0;34m,\u001b[0m\u001b[0mepochs\u001b[0m\u001b[0;34m=\u001b[0m\u001b[0mnb\u001b[0m\u001b[0;34m,\u001b[0m \u001b[0mverbose\u001b[0m\u001b[0;34m=\u001b[0m\u001b[0;36m1\u001b[0m\u001b[0;34m,\u001b[0m \u001b[0mcallbacks\u001b[0m\u001b[0;34m=\u001b[0m\u001b[0;34m[\u001b[0m\u001b[0mreduce_lr\u001b[0m\u001b[0;34m]\u001b[0m\u001b[0;34m)\u001b[0m\u001b[0;34m\u001b[0m\u001b[0;34m\u001b[0m\u001b[0m\n\u001b[0m\u001b[1;32m      9\u001b[0m     \u001b[0;31m##history = model.fit(x = xdata, y = ydata, epochs = 40, batch_size = bs,validation_data= (xval,yval),callbacks=[es])\u001b[0m\u001b[0;34m\u001b[0m\u001b[0;34m\u001b[0m\u001b[0;34m\u001b[0m\u001b[0m\n\u001b[1;32m     10\u001b[0m     \u001b[0mmval\u001b[0m \u001b[0;34m=\u001b[0m  \u001b[0mmodel\u001b[0m\u001b[0;34m.\u001b[0m\u001b[0mevaluate\u001b[0m\u001b[0;34m(\u001b[0m\u001b[0mx\u001b[0m \u001b[0;34m=\u001b[0m \u001b[0mxval\u001b[0m\u001b[0;34m,\u001b[0m \u001b[0my\u001b[0m \u001b[0;34m=\u001b[0m \u001b[0myval\u001b[0m\u001b[0;34m)\u001b[0m\u001b[0;34m\u001b[0m\u001b[0;34m\u001b[0m\u001b[0m\n",
      "\u001b[0;32m~/Documents/work/machine_learning/codes/mlp/lib/python3.7/site-packages/tensorflow/python/keras/engine/training.py\u001b[0m in \u001b[0;36mfit_generator\u001b[0;34m(self, generator, steps_per_epoch, epochs, verbose, callbacks, validation_data, validation_steps, validation_freq, class_weight, max_queue_size, workers, use_multiprocessing, shuffle, initial_epoch)\u001b[0m\n\u001b[1;32m   1513\u001b[0m         \u001b[0mshuffle\u001b[0m\u001b[0;34m=\u001b[0m\u001b[0mshuffle\u001b[0m\u001b[0;34m,\u001b[0m\u001b[0;34m\u001b[0m\u001b[0;34m\u001b[0m\u001b[0m\n\u001b[1;32m   1514\u001b[0m         \u001b[0minitial_epoch\u001b[0m\u001b[0;34m=\u001b[0m\u001b[0minitial_epoch\u001b[0m\u001b[0;34m,\u001b[0m\u001b[0;34m\u001b[0m\u001b[0;34m\u001b[0m\u001b[0m\n\u001b[0;32m-> 1515\u001b[0;31m         steps_name='steps_per_epoch')\n\u001b[0m\u001b[1;32m   1516\u001b[0m \u001b[0;34m\u001b[0m\u001b[0m\n\u001b[1;32m   1517\u001b[0m   def evaluate_generator(self,\n",
      "\u001b[0;32m~/Documents/work/machine_learning/codes/mlp/lib/python3.7/site-packages/tensorflow/python/keras/engine/training_generator.py\u001b[0m in \u001b[0;36mmodel_iteration\u001b[0;34m(model, data, steps_per_epoch, epochs, verbose, callbacks, validation_data, validation_steps, validation_freq, class_weight, max_queue_size, workers, use_multiprocessing, shuffle, initial_epoch, mode, batch_size, steps_name, **kwargs)\u001b[0m\n\u001b[1;32m    255\u001b[0m \u001b[0;34m\u001b[0m\u001b[0m\n\u001b[1;32m    256\u001b[0m       \u001b[0mis_deferred\u001b[0m \u001b[0;34m=\u001b[0m \u001b[0;32mnot\u001b[0m \u001b[0mmodel\u001b[0m\u001b[0;34m.\u001b[0m\u001b[0m_is_compiled\u001b[0m\u001b[0;34m\u001b[0m\u001b[0;34m\u001b[0m\u001b[0m\n\u001b[0;32m--> 257\u001b[0;31m       \u001b[0mbatch_outs\u001b[0m \u001b[0;34m=\u001b[0m \u001b[0mbatch_function\u001b[0m\u001b[0;34m(\u001b[0m\u001b[0;34m*\u001b[0m\u001b[0mbatch_data\u001b[0m\u001b[0;34m)\u001b[0m\u001b[0;34m\u001b[0m\u001b[0;34m\u001b[0m\u001b[0m\n\u001b[0m\u001b[1;32m    258\u001b[0m       \u001b[0;32mif\u001b[0m \u001b[0;32mnot\u001b[0m \u001b[0misinstance\u001b[0m\u001b[0;34m(\u001b[0m\u001b[0mbatch_outs\u001b[0m\u001b[0;34m,\u001b[0m \u001b[0mlist\u001b[0m\u001b[0;34m)\u001b[0m\u001b[0;34m:\u001b[0m\u001b[0;34m\u001b[0m\u001b[0;34m\u001b[0m\u001b[0m\n\u001b[1;32m    259\u001b[0m         \u001b[0mbatch_outs\u001b[0m \u001b[0;34m=\u001b[0m \u001b[0;34m[\u001b[0m\u001b[0mbatch_outs\u001b[0m\u001b[0;34m]\u001b[0m\u001b[0;34m\u001b[0m\u001b[0;34m\u001b[0m\u001b[0m\n",
      "\u001b[0;32m~/Documents/work/machine_learning/codes/mlp/lib/python3.7/site-packages/tensorflow/python/keras/engine/training.py\u001b[0m in \u001b[0;36mtrain_on_batch\u001b[0;34m(self, x, y, sample_weight, class_weight, reset_metrics)\u001b[0m\n\u001b[1;32m   1257\u001b[0m       \u001b[0;32melse\u001b[0m\u001b[0;34m:\u001b[0m\u001b[0;34m\u001b[0m\u001b[0;34m\u001b[0m\u001b[0m\n\u001b[1;32m   1258\u001b[0m         \u001b[0mself\u001b[0m\u001b[0;34m.\u001b[0m\u001b[0m_make_fit_function\u001b[0m\u001b[0;34m(\u001b[0m\u001b[0;34m)\u001b[0m\u001b[0;34m\u001b[0m\u001b[0;34m\u001b[0m\u001b[0m\n\u001b[0;32m-> 1259\u001b[0;31m         \u001b[0moutputs\u001b[0m \u001b[0;34m=\u001b[0m \u001b[0mself\u001b[0m\u001b[0;34m.\u001b[0m\u001b[0m_fit_function\u001b[0m\u001b[0;34m(\u001b[0m\u001b[0mins\u001b[0m\u001b[0;34m)\u001b[0m  \u001b[0;31m# pylint: disable=not-callable\u001b[0m\u001b[0;34m\u001b[0m\u001b[0;34m\u001b[0m\u001b[0m\n\u001b[0m\u001b[1;32m   1260\u001b[0m \u001b[0;34m\u001b[0m\u001b[0m\n\u001b[1;32m   1261\u001b[0m     \u001b[0;32mif\u001b[0m \u001b[0mreset_metrics\u001b[0m\u001b[0;34m:\u001b[0m\u001b[0;34m\u001b[0m\u001b[0;34m\u001b[0m\u001b[0m\n",
      "\u001b[0;32m~/Documents/work/machine_learning/codes/mlp/lib/python3.7/site-packages/tensorflow/python/keras/backend.py\u001b[0m in \u001b[0;36m__call__\u001b[0;34m(self, inputs)\u001b[0m\n\u001b[1;32m   3215\u001b[0m         \u001b[0mvalue\u001b[0m \u001b[0;34m=\u001b[0m \u001b[0mmath_ops\u001b[0m\u001b[0;34m.\u001b[0m\u001b[0mcast\u001b[0m\u001b[0;34m(\u001b[0m\u001b[0mvalue\u001b[0m\u001b[0;34m,\u001b[0m \u001b[0mtensor\u001b[0m\u001b[0;34m.\u001b[0m\u001b[0mdtype\u001b[0m\u001b[0;34m)\u001b[0m\u001b[0;34m\u001b[0m\u001b[0;34m\u001b[0m\u001b[0m\n\u001b[1;32m   3216\u001b[0m       \u001b[0mconverted_inputs\u001b[0m\u001b[0;34m.\u001b[0m\u001b[0mappend\u001b[0m\u001b[0;34m(\u001b[0m\u001b[0mvalue\u001b[0m\u001b[0;34m)\u001b[0m\u001b[0;34m\u001b[0m\u001b[0;34m\u001b[0m\u001b[0m\n\u001b[0;32m-> 3217\u001b[0;31m     \u001b[0moutputs\u001b[0m \u001b[0;34m=\u001b[0m \u001b[0mself\u001b[0m\u001b[0;34m.\u001b[0m\u001b[0m_graph_fn\u001b[0m\u001b[0;34m(\u001b[0m\u001b[0;34m*\u001b[0m\u001b[0mconverted_inputs\u001b[0m\u001b[0;34m)\u001b[0m\u001b[0;34m\u001b[0m\u001b[0;34m\u001b[0m\u001b[0m\n\u001b[0m\u001b[1;32m   3218\u001b[0m     return nest.pack_sequence_as(self._outputs_structure,\n\u001b[1;32m   3219\u001b[0m                                  [x.numpy() for x in outputs])\n",
      "\u001b[0;32m~/Documents/work/machine_learning/codes/mlp/lib/python3.7/site-packages/tensorflow/python/eager/function.py\u001b[0m in \u001b[0;36m__call__\u001b[0;34m(self, *args, **kwargs)\u001b[0m\n\u001b[1;32m    556\u001b[0m       raise TypeError(\"Keyword arguments {} unknown. Expected {}.\".format(\n\u001b[1;32m    557\u001b[0m           list(kwargs.keys()), list(self._arg_keywords)))\n\u001b[0;32m--> 558\u001b[0;31m     \u001b[0;32mreturn\u001b[0m \u001b[0mself\u001b[0m\u001b[0;34m.\u001b[0m\u001b[0m_call_flat\u001b[0m\u001b[0;34m(\u001b[0m\u001b[0margs\u001b[0m\u001b[0;34m)\u001b[0m\u001b[0;34m\u001b[0m\u001b[0;34m\u001b[0m\u001b[0m\n\u001b[0m\u001b[1;32m    559\u001b[0m \u001b[0;34m\u001b[0m\u001b[0m\n\u001b[1;32m    560\u001b[0m   \u001b[0;32mdef\u001b[0m \u001b[0m_filtered_call\u001b[0m\u001b[0;34m(\u001b[0m\u001b[0mself\u001b[0m\u001b[0;34m,\u001b[0m \u001b[0margs\u001b[0m\u001b[0;34m,\u001b[0m \u001b[0mkwargs\u001b[0m\u001b[0;34m)\u001b[0m\u001b[0;34m:\u001b[0m\u001b[0;34m\u001b[0m\u001b[0;34m\u001b[0m\u001b[0m\n",
      "\u001b[0;32m~/Documents/work/machine_learning/codes/mlp/lib/python3.7/site-packages/tensorflow/python/eager/function.py\u001b[0m in \u001b[0;36m_call_flat\u001b[0;34m(self, args)\u001b[0m\n\u001b[1;32m    625\u001b[0m     \u001b[0;31m# Only need to override the gradient in graph mode and when we have outputs.\u001b[0m\u001b[0;34m\u001b[0m\u001b[0;34m\u001b[0m\u001b[0;34m\u001b[0m\u001b[0m\n\u001b[1;32m    626\u001b[0m     \u001b[0;32mif\u001b[0m \u001b[0mcontext\u001b[0m\u001b[0;34m.\u001b[0m\u001b[0mexecuting_eagerly\u001b[0m\u001b[0;34m(\u001b[0m\u001b[0;34m)\u001b[0m \u001b[0;32mor\u001b[0m \u001b[0;32mnot\u001b[0m \u001b[0mself\u001b[0m\u001b[0;34m.\u001b[0m\u001b[0moutputs\u001b[0m\u001b[0;34m:\u001b[0m\u001b[0;34m\u001b[0m\u001b[0;34m\u001b[0m\u001b[0m\n\u001b[0;32m--> 627\u001b[0;31m       \u001b[0moutputs\u001b[0m \u001b[0;34m=\u001b[0m \u001b[0mself\u001b[0m\u001b[0;34m.\u001b[0m\u001b[0m_inference_function\u001b[0m\u001b[0;34m.\u001b[0m\u001b[0mcall\u001b[0m\u001b[0;34m(\u001b[0m\u001b[0mctx\u001b[0m\u001b[0;34m,\u001b[0m \u001b[0margs\u001b[0m\u001b[0;34m)\u001b[0m\u001b[0;34m\u001b[0m\u001b[0;34m\u001b[0m\u001b[0m\n\u001b[0m\u001b[1;32m    628\u001b[0m     \u001b[0;32melse\u001b[0m\u001b[0;34m:\u001b[0m\u001b[0;34m\u001b[0m\u001b[0;34m\u001b[0m\u001b[0m\n\u001b[1;32m    629\u001b[0m       \u001b[0mself\u001b[0m\u001b[0;34m.\u001b[0m\u001b[0m_register_gradient\u001b[0m\u001b[0;34m(\u001b[0m\u001b[0;34m)\u001b[0m\u001b[0;34m\u001b[0m\u001b[0;34m\u001b[0m\u001b[0m\n",
      "\u001b[0;32m~/Documents/work/machine_learning/codes/mlp/lib/python3.7/site-packages/tensorflow/python/eager/function.py\u001b[0m in \u001b[0;36mcall\u001b[0;34m(self, ctx, args)\u001b[0m\n\u001b[1;32m    413\u001b[0m             attrs=(\"executor_type\", executor_type,\n\u001b[1;32m    414\u001b[0m                    \"config_proto\", config),\n\u001b[0;32m--> 415\u001b[0;31m             ctx=ctx)\n\u001b[0m\u001b[1;32m    416\u001b[0m       \u001b[0;31m# Replace empty list with None\u001b[0m\u001b[0;34m\u001b[0m\u001b[0;34m\u001b[0m\u001b[0;34m\u001b[0m\u001b[0m\n\u001b[1;32m    417\u001b[0m       \u001b[0moutputs\u001b[0m \u001b[0;34m=\u001b[0m \u001b[0moutputs\u001b[0m \u001b[0;32mor\u001b[0m \u001b[0;32mNone\u001b[0m\u001b[0;34m\u001b[0m\u001b[0;34m\u001b[0m\u001b[0m\n",
      "\u001b[0;32m~/Documents/work/machine_learning/codes/mlp/lib/python3.7/site-packages/tensorflow/python/eager/execute.py\u001b[0m in \u001b[0;36mquick_execute\u001b[0;34m(op_name, num_outputs, inputs, attrs, ctx, name)\u001b[0m\n\u001b[1;32m     58\u001b[0m     tensors = pywrap_tensorflow.TFE_Py_Execute(ctx._handle, device_name,\n\u001b[1;32m     59\u001b[0m                                                \u001b[0mop_name\u001b[0m\u001b[0;34m,\u001b[0m \u001b[0minputs\u001b[0m\u001b[0;34m,\u001b[0m \u001b[0mattrs\u001b[0m\u001b[0;34m,\u001b[0m\u001b[0;34m\u001b[0m\u001b[0;34m\u001b[0m\u001b[0m\n\u001b[0;32m---> 60\u001b[0;31m                                                num_outputs)\n\u001b[0m\u001b[1;32m     61\u001b[0m   \u001b[0;32mexcept\u001b[0m \u001b[0mcore\u001b[0m\u001b[0;34m.\u001b[0m\u001b[0m_NotOkStatusException\u001b[0m \u001b[0;32mas\u001b[0m \u001b[0me\u001b[0m\u001b[0;34m:\u001b[0m\u001b[0;34m\u001b[0m\u001b[0;34m\u001b[0m\u001b[0m\n\u001b[1;32m     62\u001b[0m     \u001b[0;32mif\u001b[0m \u001b[0mname\u001b[0m \u001b[0;32mis\u001b[0m \u001b[0;32mnot\u001b[0m \u001b[0;32mNone\u001b[0m\u001b[0;34m:\u001b[0m\u001b[0;34m\u001b[0m\u001b[0;34m\u001b[0m\u001b[0m\n",
      "\u001b[0;31mKeyboardInterrupt\u001b[0m: "
     ]
    }
   ],
   "source": [
    "lval,lhis,lypred=run(Lenet5Model,Xn_train,Ye_train, Xn_val, Ye_val,Xn_test,64,300)"
   ]
  },
  {
   "cell_type": "code",
   "execution_count": 38,
   "metadata": {},
   "outputs": [
    {
     "data": {
      "text/plain": [
       "(28000, 28, 28, 1)"
      ]
     },
     "execution_count": 38,
     "metadata": {},
     "output_type": "execute_result"
    }
   ],
   "source": [
    "np.shape(Xn_test)"
   ]
  },
  {
   "cell_type": "code",
   "execution_count": null,
   "metadata": {},
   "outputs": [],
   "source": []
  }
 ],
 "metadata": {
  "kernelspec": {
   "display_name": "Python3 (mlp)",
   "language": "python",
   "name": "mlp"
  },
  "language_info": {
   "codemirror_mode": {
    "name": "ipython",
    "version": 3
   },
   "file_extension": ".py",
   "mimetype": "text/x-python",
   "name": "python",
   "nbconvert_exporter": "python",
   "pygments_lexer": "ipython3",
   "version": "3.7.3"
  }
 },
 "nbformat": 4,
 "nbformat_minor": 2
}
